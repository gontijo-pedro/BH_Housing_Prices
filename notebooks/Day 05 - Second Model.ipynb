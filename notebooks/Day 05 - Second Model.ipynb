{
 "cells": [
  {
   "cell_type": "markdown",
   "id": "6464281f",
   "metadata": {},
   "source": [
    "# Imports"
   ]
  },
  {
   "cell_type": "code",
   "execution_count": 1,
   "id": "74ce1a90",
   "metadata": {},
   "outputs": [],
   "source": [
    "#import graphviz\n",
    "import matplotlib.pyplot as plt\n",
    "import numpy as np\n",
    "import pandas as pd\n",
    "import seaborn as sns\n",
    "from sklearn.dummy import DummyRegressor\n",
    "from sklearn.ensemble import RandomForestRegressor\n",
    "from sklearn.linear_model import LinearRegression\n",
    "from sklearn.model_selection import cross_validate\n",
    "from sklearn.model_selection import GridSearchCV\n",
    "from sklearn.model_selection import learning_curve\n",
    "from sklearn.model_selection import train_test_split\n",
    "from sklearn.preprocessing import OneHotEncoder\n",
    "from sklearn.preprocessing import MinMaxScaler\n",
    "from sklearn.tree import DecisionTreeRegressor\n",
    "#from sklearn.tree import export_graphviz"
   ]
  },
  {
   "cell_type": "markdown",
   "id": "071e14e8",
   "metadata": {},
   "source": [
    "# Importing the Dataset"
   ]
  },
  {
   "cell_type": "code",
   "execution_count": 2,
   "id": "577681a1",
   "metadata": {},
   "outputs": [
    {
     "data": {
      "text/html": [
       "<div>\n",
       "<style scoped>\n",
       "    .dataframe tbody tr th:only-of-type {\n",
       "        vertical-align: middle;\n",
       "    }\n",
       "\n",
       "    .dataframe tbody tr th {\n",
       "        vertical-align: top;\n",
       "    }\n",
       "\n",
       "    .dataframe thead th {\n",
       "        text-align: right;\n",
       "    }\n",
       "</style>\n",
       "<table border=\"1\" class=\"dataframe\">\n",
       "  <thead>\n",
       "    <tr style=\"text-align: right;\">\n",
       "      <th></th>\n",
       "      <th>address</th>\n",
       "      <th>garage-places</th>\n",
       "      <th>price</th>\n",
       "      <th>rooms</th>\n",
       "      <th>square-meters</th>\n",
       "      <th>neighborhood</th>\n",
       "      <th>city</th>\n",
       "      <th>latitude</th>\n",
       "      <th>longitude</th>\n",
       "    </tr>\n",
       "  </thead>\n",
       "  <tbody>\n",
       "    <tr>\n",
       "      <th>0</th>\n",
       "      <td>Avenida Raja Gabaglia, 1583</td>\n",
       "      <td>1</td>\n",
       "      <td>330000</td>\n",
       "      <td>1</td>\n",
       "      <td>40</td>\n",
       "      <td>Luxemburgo</td>\n",
       "      <td>Belo Horizonte</td>\n",
       "      <td>-19.936415</td>\n",
       "      <td>-43.953396</td>\n",
       "    </tr>\n",
       "    <tr>\n",
       "      <th>1</th>\n",
       "      <td>Rua dos Expedicionários, 1082</td>\n",
       "      <td>5</td>\n",
       "      <td>1190000</td>\n",
       "      <td>4</td>\n",
       "      <td>411</td>\n",
       "      <td>Santa Amélia</td>\n",
       "      <td>Belo Horizonte</td>\n",
       "      <td>-20.225241</td>\n",
       "      <td>-44.397780</td>\n",
       "    </tr>\n",
       "    <tr>\n",
       "      <th>2</th>\n",
       "      <td>Rua Marechal Hermes, 81</td>\n",
       "      <td>4</td>\n",
       "      <td>1590000</td>\n",
       "      <td>4</td>\n",
       "      <td>158</td>\n",
       "      <td>Gutierrez</td>\n",
       "      <td>Belo Horizonte</td>\n",
       "      <td>-19.937155</td>\n",
       "      <td>-43.958694</td>\n",
       "    </tr>\n",
       "    <tr>\n",
       "      <th>3</th>\n",
       "      <td>Rua Juruna, 110</td>\n",
       "      <td>6</td>\n",
       "      <td>550000</td>\n",
       "      <td>3</td>\n",
       "      <td>278</td>\n",
       "      <td>Pindorama</td>\n",
       "      <td>Belo Horizonte</td>\n",
       "      <td>-19.912982</td>\n",
       "      <td>-44.019944</td>\n",
       "    </tr>\n",
       "    <tr>\n",
       "      <th>4</th>\n",
       "      <td>Rua Maria Pereira de Araújo, 15</td>\n",
       "      <td>1</td>\n",
       "      <td>450000</td>\n",
       "      <td>3</td>\n",
       "      <td>87</td>\n",
       "      <td>Castelo</td>\n",
       "      <td>Belo Horizonte</td>\n",
       "      <td>-19.886147</td>\n",
       "      <td>-44.004236</td>\n",
       "    </tr>\n",
       "    <tr>\n",
       "      <th>...</th>\n",
       "      <td>...</td>\n",
       "      <td>...</td>\n",
       "      <td>...</td>\n",
       "      <td>...</td>\n",
       "      <td>...</td>\n",
       "      <td>...</td>\n",
       "      <td>...</td>\n",
       "      <td>...</td>\n",
       "      <td>...</td>\n",
       "    </tr>\n",
       "    <tr>\n",
       "      <th>5758</th>\n",
       "      <td>Rua Gama Cerqueira</td>\n",
       "      <td>2</td>\n",
       "      <td>560000</td>\n",
       "      <td>3</td>\n",
       "      <td>92</td>\n",
       "      <td>Nova Suíssa</td>\n",
       "      <td>Belo Horizonte</td>\n",
       "      <td>-19.945428</td>\n",
       "      <td>-43.970988</td>\n",
       "    </tr>\n",
       "    <tr>\n",
       "      <th>5759</th>\n",
       "      <td>Rua Arthur Lourenço, 262</td>\n",
       "      <td>1</td>\n",
       "      <td>440000</td>\n",
       "      <td>3</td>\n",
       "      <td>90</td>\n",
       "      <td>Barreiro</td>\n",
       "      <td>Belo Horizonte</td>\n",
       "      <td>-19.979915</td>\n",
       "      <td>-44.026007</td>\n",
       "    </tr>\n",
       "    <tr>\n",
       "      <th>5760</th>\n",
       "      <td>Rua General Ephigênio Ruas Santos</td>\n",
       "      <td>2</td>\n",
       "      <td>500000</td>\n",
       "      <td>3</td>\n",
       "      <td>80</td>\n",
       "      <td>Itapoã</td>\n",
       "      <td>Belo Horizonte</td>\n",
       "      <td>-19.840904</td>\n",
       "      <td>-43.956037</td>\n",
       "    </tr>\n",
       "    <tr>\n",
       "      <th>5761</th>\n",
       "      <td>Rua General Ephigênio Ruas Santos</td>\n",
       "      <td>2</td>\n",
       "      <td>740000</td>\n",
       "      <td>3</td>\n",
       "      <td>80</td>\n",
       "      <td>Itapoã</td>\n",
       "      <td>Belo Horizonte</td>\n",
       "      <td>-19.840904</td>\n",
       "      <td>-43.956037</td>\n",
       "    </tr>\n",
       "    <tr>\n",
       "      <th>5762</th>\n",
       "      <td>Avenida do Contorno</td>\n",
       "      <td>3</td>\n",
       "      <td>4990000</td>\n",
       "      <td>0</td>\n",
       "      <td>428</td>\n",
       "      <td>Savassi</td>\n",
       "      <td>Belo Horizonte</td>\n",
       "      <td>-19.915643</td>\n",
       "      <td>-43.945380</td>\n",
       "    </tr>\n",
       "  </tbody>\n",
       "</table>\n",
       "<p>5763 rows × 9 columns</p>\n",
       "</div>"
      ],
      "text/plain": [
       "                                 address  garage-places    price  rooms  \\\n",
       "0           Avenida Raja Gabaglia, 1583               1   330000      1   \n",
       "1         Rua dos Expedicionários, 1082               5  1190000      4   \n",
       "2               Rua Marechal Hermes, 81               4  1590000      4   \n",
       "3                       Rua Juruna, 110               6   550000      3   \n",
       "4       Rua Maria Pereira de Araújo, 15               1   450000      3   \n",
       "...                                  ...            ...      ...    ...   \n",
       "5758                 Rua Gama Cerqueira               2   560000      3   \n",
       "5759           Rua Arthur Lourenço, 262               1   440000      3   \n",
       "5760  Rua General Ephigênio Ruas Santos               2   500000      3   \n",
       "5761  Rua General Ephigênio Ruas Santos               2   740000      3   \n",
       "5762                Avenida do Contorno               3  4990000      0   \n",
       "\n",
       "      square-meters  neighborhood            city   latitude  longitude  \n",
       "0                40    Luxemburgo  Belo Horizonte -19.936415 -43.953396  \n",
       "1               411  Santa Amélia  Belo Horizonte -20.225241 -44.397780  \n",
       "2               158     Gutierrez  Belo Horizonte -19.937155 -43.958694  \n",
       "3               278     Pindorama  Belo Horizonte -19.912982 -44.019944  \n",
       "4                87       Castelo  Belo Horizonte -19.886147 -44.004236  \n",
       "...             ...           ...             ...        ...        ...  \n",
       "5758             92   Nova Suíssa  Belo Horizonte -19.945428 -43.970988  \n",
       "5759             90      Barreiro  Belo Horizonte -19.979915 -44.026007  \n",
       "5760             80        Itapoã  Belo Horizonte -19.840904 -43.956037  \n",
       "5761             80        Itapoã  Belo Horizonte -19.840904 -43.956037  \n",
       "5762            428       Savassi  Belo Horizonte -19.915643 -43.945380  \n",
       "\n",
       "[5763 rows x 9 columns]"
      ]
     },
     "execution_count": 2,
     "metadata": {},
     "output_type": "execute_result"
    }
   ],
   "source": [
    "raw_df = pd.read_csv('../raw_data/data_first_cleaning.csv')\n",
    "df = raw_df.copy()\n",
    "df"
   ]
  },
  {
   "cell_type": "code",
   "execution_count": 3,
   "id": "85efbe0e",
   "metadata": {},
   "outputs": [
    {
     "data": {
      "text/html": [
       "<div>\n",
       "<style scoped>\n",
       "    .dataframe tbody tr th:only-of-type {\n",
       "        vertical-align: middle;\n",
       "    }\n",
       "\n",
       "    .dataframe tbody tr th {\n",
       "        vertical-align: top;\n",
       "    }\n",
       "\n",
       "    .dataframe thead th {\n",
       "        text-align: right;\n",
       "    }\n",
       "</style>\n",
       "<table border=\"1\" class=\"dataframe\">\n",
       "  <thead>\n",
       "    <tr style=\"text-align: right;\">\n",
       "      <th></th>\n",
       "      <th>garage-places</th>\n",
       "      <th>price</th>\n",
       "      <th>rooms</th>\n",
       "      <th>square-meters</th>\n",
       "      <th>neighborhood</th>\n",
       "      <th>latitude</th>\n",
       "      <th>longitude</th>\n",
       "    </tr>\n",
       "  </thead>\n",
       "  <tbody>\n",
       "    <tr>\n",
       "      <th>0</th>\n",
       "      <td>1</td>\n",
       "      <td>330000</td>\n",
       "      <td>1</td>\n",
       "      <td>40</td>\n",
       "      <td>Luxemburgo</td>\n",
       "      <td>-19.936415</td>\n",
       "      <td>-43.953396</td>\n",
       "    </tr>\n",
       "    <tr>\n",
       "      <th>1</th>\n",
       "      <td>5</td>\n",
       "      <td>1190000</td>\n",
       "      <td>4</td>\n",
       "      <td>411</td>\n",
       "      <td>Santa Amélia</td>\n",
       "      <td>-20.225241</td>\n",
       "      <td>-44.397780</td>\n",
       "    </tr>\n",
       "    <tr>\n",
       "      <th>2</th>\n",
       "      <td>4</td>\n",
       "      <td>1590000</td>\n",
       "      <td>4</td>\n",
       "      <td>158</td>\n",
       "      <td>Gutierrez</td>\n",
       "      <td>-19.937155</td>\n",
       "      <td>-43.958694</td>\n",
       "    </tr>\n",
       "    <tr>\n",
       "      <th>3</th>\n",
       "      <td>6</td>\n",
       "      <td>550000</td>\n",
       "      <td>3</td>\n",
       "      <td>278</td>\n",
       "      <td>Pindorama</td>\n",
       "      <td>-19.912982</td>\n",
       "      <td>-44.019944</td>\n",
       "    </tr>\n",
       "    <tr>\n",
       "      <th>4</th>\n",
       "      <td>1</td>\n",
       "      <td>450000</td>\n",
       "      <td>3</td>\n",
       "      <td>87</td>\n",
       "      <td>Castelo</td>\n",
       "      <td>-19.886147</td>\n",
       "      <td>-44.004236</td>\n",
       "    </tr>\n",
       "    <tr>\n",
       "      <th>...</th>\n",
       "      <td>...</td>\n",
       "      <td>...</td>\n",
       "      <td>...</td>\n",
       "      <td>...</td>\n",
       "      <td>...</td>\n",
       "      <td>...</td>\n",
       "      <td>...</td>\n",
       "    </tr>\n",
       "    <tr>\n",
       "      <th>5758</th>\n",
       "      <td>2</td>\n",
       "      <td>560000</td>\n",
       "      <td>3</td>\n",
       "      <td>92</td>\n",
       "      <td>Nova Suíssa</td>\n",
       "      <td>-19.945428</td>\n",
       "      <td>-43.970988</td>\n",
       "    </tr>\n",
       "    <tr>\n",
       "      <th>5759</th>\n",
       "      <td>1</td>\n",
       "      <td>440000</td>\n",
       "      <td>3</td>\n",
       "      <td>90</td>\n",
       "      <td>Barreiro</td>\n",
       "      <td>-19.979915</td>\n",
       "      <td>-44.026007</td>\n",
       "    </tr>\n",
       "    <tr>\n",
       "      <th>5760</th>\n",
       "      <td>2</td>\n",
       "      <td>500000</td>\n",
       "      <td>3</td>\n",
       "      <td>80</td>\n",
       "      <td>Itapoã</td>\n",
       "      <td>-19.840904</td>\n",
       "      <td>-43.956037</td>\n",
       "    </tr>\n",
       "    <tr>\n",
       "      <th>5761</th>\n",
       "      <td>2</td>\n",
       "      <td>740000</td>\n",
       "      <td>3</td>\n",
       "      <td>80</td>\n",
       "      <td>Itapoã</td>\n",
       "      <td>-19.840904</td>\n",
       "      <td>-43.956037</td>\n",
       "    </tr>\n",
       "    <tr>\n",
       "      <th>5762</th>\n",
       "      <td>3</td>\n",
       "      <td>4990000</td>\n",
       "      <td>0</td>\n",
       "      <td>428</td>\n",
       "      <td>Savassi</td>\n",
       "      <td>-19.915643</td>\n",
       "      <td>-43.945380</td>\n",
       "    </tr>\n",
       "  </tbody>\n",
       "</table>\n",
       "<p>5734 rows × 7 columns</p>\n",
       "</div>"
      ],
      "text/plain": [
       "      garage-places    price  rooms  square-meters  neighborhood   latitude  \\\n",
       "0                 1   330000      1             40    Luxemburgo -19.936415   \n",
       "1                 5  1190000      4            411  Santa Amélia -20.225241   \n",
       "2                 4  1590000      4            158     Gutierrez -19.937155   \n",
       "3                 6   550000      3            278     Pindorama -19.912982   \n",
       "4                 1   450000      3             87       Castelo -19.886147   \n",
       "...             ...      ...    ...            ...           ...        ...   \n",
       "5758              2   560000      3             92   Nova Suíssa -19.945428   \n",
       "5759              1   440000      3             90      Barreiro -19.979915   \n",
       "5760              2   500000      3             80        Itapoã -19.840904   \n",
       "5761              2   740000      3             80        Itapoã -19.840904   \n",
       "5762              3  4990000      0            428       Savassi -19.915643   \n",
       "\n",
       "      longitude  \n",
       "0    -43.953396  \n",
       "1    -44.397780  \n",
       "2    -43.958694  \n",
       "3    -44.019944  \n",
       "4    -44.004236  \n",
       "...         ...  \n",
       "5758 -43.970988  \n",
       "5759 -44.026007  \n",
       "5760 -43.956037  \n",
       "5761 -43.956037  \n",
       "5762 -43.945380  \n",
       "\n",
       "[5734 rows x 7 columns]"
      ]
     },
     "execution_count": 3,
     "metadata": {},
     "output_type": "execute_result"
    }
   ],
   "source": [
    "#Applying the same steps as before to get rid of the outliers\n",
    "df = df[df['price'] < 35000000]\n",
    "df = df[df['square-meters'] > 0]\n",
    "df = df[df['square-meters'] < 16153] \n",
    "df = df[df['square-meters'] < 1500]\n",
    "df.drop(columns=['address', 'city'], inplace=True)\n",
    "df"
   ]
  },
  {
   "cell_type": "markdown",
   "id": "58d93824",
   "metadata": {},
   "source": [
    "# One-Hot-Encode the Regions "
   ]
  },
  {
   "cell_type": "markdown",
   "id": "630bebb8",
   "metadata": {},
   "source": [
    "Splitting the neighborhoods by regions.\n",
    "\n",
    "After checking that some names were not related in the city's database, I did it manually to check the missing regions on Google Maps. "
   ]
  },
  {
   "cell_type": "code",
   "execution_count": 4,
   "id": "45e369ad",
   "metadata": {},
   "outputs": [],
   "source": [
    "barreiro = ['Teixeira Dias Barreiro', 'Castanheira', 'Cardoso Barreiro', 'Brasil Industrial', 'Olaria', \n",
    "            'Flávio Marques Lisboa', 'Santa Helena', 'Araguaia', 'Solar do Barreiro', 'Milionários', 'Bonsucesso Barreiro', \n",
    "            'Tirol', 'Miramar', 'Bonsucesso', 'Petrópolis', 'Diamante', 'Barreiro']\n",
    "centro_sul = ['Coração de Jesus', 'Comiteco', 'Mangabeiras', 'Cidade Jardim', 'Barro Preto', 'São Bento', 'Vila Paris', \n",
    "              'Carmo', 'Santa Lúcia', 'Cruzeiro', 'Anchieta', 'São Lucas', 'Funcionários', 'Santo Agostinho', 'Serra', \n",
    "              'Luxemburgo', 'Santo Antônio', 'Sion', 'Lourdes', 'Belvedere', 'Savassi', 'Centro', 'São Pedro']\n",
    "leste = ['Horto Florestal', 'Jardim dos Pirineus', 'Esplanada', 'Pompéia', 'Vera Cruz', 'São Geraldo', 'Casa Branca', \n",
    "         'Saudade', 'Paraíso', 'Jonas Veiga', 'Nova Vista', 'Santa Inês', 'Floresta', 'Granja De Freitas', 'Horto', \n",
    "         'Colégio Batista', 'Sagrada Família', 'Santa Efigênia', 'Santa Tereza', 'Boa Vista']\n",
    "nordeste = ['Maria Virgínia', 'Ipê', 'Nazaré', 'Nova Floresta', 'Lagoinha', 'Jardim Vitória', 'Pirajá', 'Silveira', \n",
    "            'Fernão Dias', 'Renascença', 'Ouro Minas', 'Concórdia', 'Palmares', 'Beija Flor', 'Graça', 'União', \n",
    "            'Cachoeirinha', 'Penha', 'Ipiranga', 'Santa Cruz', 'São Gabriel', 'Goiânia', 'Cidade Nova', 'Vitória']\n",
    "noroeste = ['Conjunto Califórnia', 'Conjunto Celso Machado', 'Coqueiros', 'Santo André', 'Conjunto Jardim Filadélfia', \n",
    "            'Jardim Montanhês', 'São Salvador', 'Vila Oeste', 'Dom Bosco', 'Novo Glória', 'Caiçara Adeláide', 'Minas Brasil', \n",
    "            'Glória', 'São Cristóvão', 'Monsenhor Messias', 'Alto dos Caiçaras', 'Camargos', 'Aparecida', 'Alípio de Melo', \n",
    "            'Caiçaras', 'Alto dos Pinheiros', 'Álvaro Camargos', 'Carlos Prates', 'Santa Maria', 'Parque Pedro II', \n",
    "            'Padre Eustáquio', 'Bonfim', 'Serrano', 'Coração Eucarístico', 'Califórnia', 'Pindorama', 'João Pinheiro', ]\n",
    "norte = ['Aeroporto', 'Minaslândia', 'Primeiro de Maio', 'Vila Clóris', 'Jaqueline', 'Minaslandia P Maio', 'Juliana', \n",
    "         'Etelvina Carneiro', 'Heliópolis', 'Canaã', 'Frei Leopoldo', 'Providência', 'Jardim Guanabara', 'Floramar', \n",
    "         'Planalto', 'São Tomaz']\n",
    "oeste = ['Santa Sofia', 'Barroca', 'Vista Alegre', 'Estrela do Oriente', 'Salgado Filho', 'Betânia', 'Palmeiras', \n",
    "         'Jardim América', 'Calafate', 'Estrela Dalva', 'Havaí', 'Cinqüentenário', 'Estoril', 'Madre Gertrudes', \n",
    "         'Nova Granada', 'Marajó', 'Gameleira', 'Grajaú', 'Buritis', 'Gutierrez', 'Nova Gameleira', 'Nova Suíssa', \n",
    "         'Alto Barroca', 'Prado']\n",
    "pampulha = ['Parque São José', 'Jardim Paqueta', 'Engenho Nogueira', 'São Francisco', 'Garças', 'Santa Rosa', \n",
    "            'Jardim Atlântico', 'Trevo', 'Céu Azul', 'Santa Terezinha', 'Manacás', 'Jaraguá', 'Paquetá', 'Dona Clara', \n",
    "            'São Luíz', 'Liberdade', 'Itatiaia', 'Urca', 'Bandeirantes', 'São José', 'Pampulha', 'Braúnas', 'Santa Amélia', \n",
    "            'Castelo', 'Ouro Preto', 'Itapoã', 'Santa Branca']\n",
    "venda_nova = ['Novo Letícia', 'Parque Sao Pedro Venda Nova', 'Parque Copacabana', 'Minascaixa', 'Cenaculo', \n",
    "              'Visconde do Rio Branco', 'Sinimbu', 'Jardim Europa venda Nova', 'Piratininga Venda Nova', 'Parque Leblon', \n",
    "              'Europa', 'Rio Branco', 'Letícia', 'Jardim Leblon', 'Serra Verde', 'Copacabana', 'Venda Nova', 'Santa Mônica', \n",
    "              'Candelaria', 'Jardim dos Comerciários', 'Mantiqueira', 'São João Batista', 'Maria Helena']"
   ]
  },
  {
   "cell_type": "code",
   "execution_count": 5,
   "id": "fe299ee4",
   "metadata": {},
   "outputs": [],
   "source": [
    "regions = {\n",
    "    'barreiro': ['Teixeira Dias Barreiro', 'Castanheira', 'Cardoso Barreiro', 'Brasil Industrial', 'Olaria', \n",
    "            'Flávio Marques Lisboa', 'Santa Helena', 'Araguaia', 'Solar do Barreiro', 'Milionários', 'Bonsucesso Barreiro', \n",
    "            'Tirol', 'Miramar', 'Bonsucesso', 'Petrópolis', 'Diamante', 'Barreiro'],\n",
    "    'centro_sul': ['Coração de Jesus', 'Comiteco', 'Mangabeiras', 'Cidade Jardim', 'Barro Preto', 'São Bento', 'Vila Paris', \n",
    "              'Carmo', 'Santa Lúcia', 'Cruzeiro', 'Anchieta', 'São Lucas', 'Funcionários', 'Santo Agostinho', 'Serra', \n",
    "              'Luxemburgo', 'Santo Antônio', 'Sion', 'Lourdes', 'Belvedere', 'Savassi', 'Centro', 'São Pedro'],\n",
    "    'leste': ['Horto Florestal', 'Jardim dos Pirineus', 'Esplanada', 'Pompéia', 'Vera Cruz', 'São Geraldo', 'Casa Branca', \n",
    "         'Saudade', 'Paraíso', 'Jonas Veiga', 'Nova Vista', 'Santa Inês', 'Floresta', 'Granja De Freitas', 'Horto', \n",
    "         'Colégio Batista', 'Sagrada Família', 'Santa Efigênia', 'Santa Tereza', 'Boa Vista'],\n",
    "    'nordeste': ['Maria Virgínia', 'Ipê', 'Nazaré', 'Nova Floresta', 'Lagoinha', 'Jardim Vitória', 'Pirajá', 'Silveira', \n",
    "            'Fernão Dias', 'Renascença', 'Ouro Minas', 'Concórdia', 'Palmares', 'Beija Flor', 'Graça', 'União', \n",
    "            'Cachoeirinha', 'Penha', 'Ipiranga', 'Santa Cruz', 'São Gabriel', 'Goiânia', 'Cidade Nova', 'Vitória'],\n",
    "    'noroeste': ['Conjunto Califórnia', 'Conjunto Celso Machado', 'Coqueiros', 'Santo André', 'Conjunto Jardim Filadélfia', \n",
    "            'Jardim Montanhês', 'São Salvador', 'Vila Oeste', 'Dom Bosco', 'Novo Glória', 'Caiçara Adeláide', 'Minas Brasil', \n",
    "            'Glória', 'São Cristóvão', 'Monsenhor Messias', 'Alto dos Caiçaras', 'Camargos', 'Aparecida', 'Alípio de Melo', \n",
    "            'Caiçaras', 'Alto dos Pinheiros', 'Álvaro Camargos', 'Carlos Prates', 'Santa Maria', 'Parque Pedro II', \n",
    "            'Padre Eustáquio', 'Bonfim', 'Serrano', 'Coração Eucarístico', 'Califórnia', 'Pindorama', 'João Pinheiro', ],\n",
    "    'norte': ['Aeroporto', 'Minaslândia', 'Primeiro de Maio', 'Vila Clóris', 'Jaqueline', 'Minaslandia P Maio', 'Juliana', \n",
    "         'Etelvina Carneiro', 'Heliópolis', 'Canaã', 'Frei Leopoldo', 'Providência', 'Jardim Guanabara', 'Floramar', \n",
    "         'Planalto', 'São Tomaz'],\n",
    "    'oeste': ['Santa Sofia', 'Barroca', 'Vista Alegre', 'Estrela do Oriente', 'Salgado Filho', 'Betânia', 'Palmeiras', \n",
    "         'Jardim América', 'Calafate', 'Estrela Dalva', 'Havaí', 'Cinqüentenário', 'Estoril', 'Madre Gertrudes', \n",
    "         'Nova Granada', 'Marajó', 'Gameleira', 'Grajaú', 'Buritis', 'Gutierrez', 'Nova Gameleira', 'Nova Suíssa', \n",
    "         'Alto Barroca', 'Prado'],\n",
    "    'pampulha': ['Parque São José', 'Jardim Paqueta', 'Engenho Nogueira', 'São Francisco', 'Garças', 'Santa Rosa', \n",
    "            'Jardim Atlântico', 'Trevo', 'Céu Azul', 'Santa Terezinha', 'Manacás', 'Jaraguá', 'Paquetá', 'Dona Clara', \n",
    "            'São Luíz', 'Liberdade', 'Itatiaia', 'Urca', 'Bandeirantes', 'São José', 'Pampulha', 'Braúnas', 'Santa Amélia', \n",
    "            'Castelo', 'Ouro Preto', 'Itapoã', 'Santa Branca'],\n",
    "    'venda_nova': ['Novo Letícia', 'Parque Sao Pedro Venda Nova', 'Parque Copacabana', 'Minascaixa', 'Cenaculo', \n",
    "              'Visconde do Rio Branco', 'Sinimbu', 'Jardim Europa venda Nova', 'Piratininga Venda Nova', 'Parque Leblon', \n",
    "              'Europa', 'Rio Branco', 'Letícia', 'Jardim Leblon', 'Serra Verde', 'Copacabana', 'Venda Nova', 'Santa Mônica', \n",
    "              'Candelaria', 'Jardim dos Comerciários', 'Mantiqueira', 'São João Batista', 'Maria Helena']   \n",
    "}"
   ]
  },
  {
   "cell_type": "code",
   "execution_count": 6,
   "id": "fa5ab143",
   "metadata": {},
   "outputs": [],
   "source": [
    "#Changing each neighborhood by its region\n",
    "\n",
    "for neighborhood in df['neighborhood'].unique():\n",
    "    for region in regions.keys():\n",
    "        if neighborhood in regions[region]:\n",
    "            df['neighborhood'].replace(neighborhood, region, inplace=True)"
   ]
  },
  {
   "cell_type": "code",
   "execution_count": 7,
   "id": "8f9d751e",
   "metadata": {},
   "outputs": [],
   "source": [
    "ohe = OneHotEncoder(sparse=False)\n",
    "ohe.fit(df[['neighborhood']])\n",
    "encoded_values = ohe.transform(df[['neighborhood']])\n",
    "\n",
    "df['barreiro'], df['centro_sul'], df['leste'], df['nordeste'], df['noroeste'], df['norte'], df['oeste'], df['pampulha'], df['venda_nova'] = encoded_values.T\n",
    "\n",
    "#The latitude and longitude were here just for checking purposes\n",
    "df.drop(columns=['neighborhood', 'latitude', 'longitude'], inplace=True)"
   ]
  },
  {
   "cell_type": "markdown",
   "id": "e198e9e7",
   "metadata": {},
   "source": [
    "# Defining the Train and Test set"
   ]
  },
  {
   "cell_type": "markdown",
   "id": "1a3d5e60",
   "metadata": {},
   "source": [
    "## Defining X and Y"
   ]
  },
  {
   "cell_type": "code",
   "execution_count": 8,
   "id": "80ec426c",
   "metadata": {},
   "outputs": [],
   "source": [
    "y = df['price']\n",
    "X = df.drop(columns='price')"
   ]
  },
  {
   "cell_type": "markdown",
   "id": "2bab6a04",
   "metadata": {},
   "source": [
    "## Splitting the Sets"
   ]
  },
  {
   "cell_type": "code",
   "execution_count": 9,
   "id": "74c99be0",
   "metadata": {},
   "outputs": [],
   "source": [
    "X_train, X_test, y_train, y_test = train_test_split(X, y, test_size=0.3)"
   ]
  },
  {
   "cell_type": "markdown",
   "id": "ca098ab0",
   "metadata": {},
   "source": [
    "# Applying the MinMax Scaler"
   ]
  },
  {
   "cell_type": "code",
   "execution_count": 10,
   "id": "d484b1e7",
   "metadata": {},
   "outputs": [],
   "source": [
    "scaler = MinMaxScaler().fit(X_train)\n",
    "X_train = scaler.transform(X_train)"
   ]
  },
  {
   "cell_type": "code",
   "execution_count": 11,
   "id": "41711bfe",
   "metadata": {},
   "outputs": [],
   "source": [
    "X_test = scaler.transform(X_test)"
   ]
  },
  {
   "cell_type": "markdown",
   "id": "53d80211",
   "metadata": {},
   "source": [
    "# Structuring the Model"
   ]
  },
  {
   "cell_type": "markdown",
   "id": "8149f962",
   "metadata": {},
   "source": [
    "## Baseline Model/Dummy Model"
   ]
  },
  {
   "cell_type": "code",
   "execution_count": 12,
   "id": "a7955133",
   "metadata": {},
   "outputs": [
    {
     "data": {
      "text/plain": [
       "-3.961642361938189e-06"
      ]
     },
     "execution_count": 12,
     "metadata": {},
     "output_type": "execute_result"
    }
   ],
   "source": [
    "baseline_model = DummyRegressor()\n",
    "baseline_model.fit(X_train, y_train)\n",
    "score = baseline_model.score(X_test, y_test)\n",
    "score"
   ]
  },
  {
   "cell_type": "markdown",
   "id": "3e5059b0",
   "metadata": {},
   "source": [
    "That's a **terrible** (but expected) result."
   ]
  },
  {
   "cell_type": "markdown",
   "id": "8fd54759",
   "metadata": {},
   "source": [
    "## Linear Regression"
   ]
  },
  {
   "cell_type": "code",
   "execution_count": 13,
   "id": "1b828d79",
   "metadata": {},
   "outputs": [
    {
     "data": {
      "text/plain": [
       "0.5479677653105346"
      ]
     },
     "execution_count": 13,
     "metadata": {},
     "output_type": "execute_result"
    }
   ],
   "source": [
    "model = LinearRegression()\n",
    "cv_results = cross_validate(model, X_train, y_train, cv=5, scoring='r2')\n",
    "cv_results['test_score'].mean() # >>>> 0.5659596543536685"
   ]
  },
  {
   "cell_type": "markdown",
   "id": "bde6f16d",
   "metadata": {},
   "source": [
    "When we consider the regions features, our score improves almost **10%**!"
   ]
  },
  {
   "cell_type": "markdown",
   "id": "7c426c2a",
   "metadata": {},
   "source": [
    "## Checking the Learning Curves"
   ]
  },
  {
   "cell_type": "code",
   "execution_count": 14,
   "id": "e307f6e4",
   "metadata": {},
   "outputs": [
    {
     "data": {
      "text/plain": [
       "<matplotlib.legend.Legend at 0x7f89d6fc1dc0>"
      ]
     },
     "execution_count": 14,
     "metadata": {},
     "output_type": "execute_result"
    },
    {
     "data": {
      "image/png": "[encoded data removed]",
      "text/plain": [
       "<Figure size 432x288 with 1 Axes>"
      ]
     },
     "metadata": {
      "needs_background": "light"
     },
     "output_type": "display_data"
    }
   ],
   "source": [
    "#Define our Train Sizes inside the function, or store it outside in a variable just like you did here;\n",
    "train_sizes = [25,50,75,100,250,500,750,1000,1500,2000,2500,3000,3500,4000]\n",
    "\n",
    "        #The function output consists in 5 arrays: train_sizes_abs, train_scores, test_scores, fit_times and score_times;\n",
    "        #The function performs an Automatic Cross Validation (again, the 'cv' is the number of folds);\n",
    "        #The 'estimator' must be an object that can perform both 'fit' and 'test' methods;\n",
    "train_sizes, train_scores, test_scores = learning_curve(estimator=LinearRegression(), X=X, y=y, train_sizes=train_sizes, cv=5, scoring='r2')\n",
    "\n",
    "        #Compute the mean of the Cross-Validated Train Scores and Test Scores;\n",
    "train_scores_mean = np.mean(train_scores, axis=1)\n",
    "test_scores_mean = np.mean(test_scores, axis=1)\n",
    "\n",
    "        #And now plot the whole thing;\n",
    "plt.plot(train_sizes, train_scores_mean, label = 'Training score')\n",
    "plt.plot(train_sizes, test_scores_mean, label = 'Test score')\n",
    "plt.ylabel('r2 score', fontsize = 14)\n",
    "plt.xlabel('Training set size', fontsize = 14)\n",
    "plt.title('Learning curves', fontsize = 18, y = 1.03)\n",
    "plt.legend()"
   ]
  },
  {
   "cell_type": "markdown",
   "id": "bbc25c86",
   "metadata": {},
   "source": [
    "At least the model doesn't seem to be under/over-fitting."
   ]
  },
  {
   "cell_type": "markdown",
   "id": "84f0845e",
   "metadata": {},
   "source": [
    "## Checking the Residuals"
   ]
  },
  {
   "cell_type": "code",
   "execution_count": 22,
   "id": "2ca2be39",
   "metadata": {},
   "outputs": [],
   "source": [
    "#Instantiating and trainning a model;\n",
    "model = LinearRegression().fit(X_train, y_train)\n",
    "#Predicting house prices with the model;\n",
    "predictions = model.predict(X_test)\n",
    "#Checking the difference between the predictions and the real prices\n",
    "residuals = y_test - predictions"
   ]
  },
  {
   "cell_type": "code",
   "execution_count": 23,
   "id": "b974b338",
   "metadata": {},
   "outputs": [
    {
     "data": {
      "image/png": "[encoded data removed]",
      "text/plain": [
       "<Figure size 432x288 with 1 Axes>"
      ]
     },
     "metadata": {
      "needs_background": "light"
     },
     "output_type": "display_data"
    }
   ],
   "source": [
    "sns.histplot(residuals, bins=100, kde=True);"
   ]
  },
  {
   "cell_type": "markdown",
   "id": "4a621a79",
   "metadata": {},
   "source": [
    "## Decision Tree"
   ]
  },
  {
   "cell_type": "markdown",
   "id": "9123a071",
   "metadata": {},
   "source": [
    "Let's use a **Gridsearch** to check the best params for our tree."
   ]
  },
  {
   "cell_type": "code",
   "execution_count": 24,
   "id": "684b1ea6",
   "metadata": {
    "scrolled": false
   },
   "outputs": [
    {
     "name": "stdout",
     "output_type": "stream",
     "text": [
      "0.5930864386062871 {'max_depth': 6, 'min_samples_leaf': 20, 'min_samples_split': 2}\n"
     ]
    }
   ],
   "source": [
    "tree = DecisionTreeRegressor()\n",
    "\n",
    "grid = {'max_depth': [4, 5, 6], \n",
    "        'min_samples_split': [2, 3, 4],\n",
    "        'min_samples_leaf': [10, 20, 30]}\n",
    "\n",
    "search = GridSearchCV(tree, grid, \n",
    "                           scoring = 'r2',\n",
    "                           cv = 5,\n",
    "                           n_jobs=-1 # paralellize computation\n",
    "                          )\n",
    "\n",
    "search.fit(X_train, y_train)\n",
    "print(search.best_score_, search.best_params_) # >>> 0.5930864386062871 {'max_depth': 6, 'min_samples_leaf': 20, 'min_samples_split': 2}"
   ]
  },
  {
   "cell_type": "code",
   "execution_count": 25,
   "id": "2f5f6d51",
   "metadata": {},
   "outputs": [
    {
     "data": {
      "text/plain": [
       "0.5940893577202346"
      ]
     },
     "execution_count": 25,
     "metadata": {},
     "output_type": "execute_result"
    }
   ],
   "source": [
    "tree = DecisionTreeRegressor(max_depth=6, min_samples_split=2, min_samples_leaf=20)\n",
    "\n",
    "cv_results = cross_validate(tree, X, y, scoring = \"r2\", cv=5)\n",
    "cv_results['test_score'].mean() # >>> 0.5940893577202346"
   ]
  },
  {
   "cell_type": "markdown",
   "id": "cc88e39d",
   "metadata": {},
   "source": [
    "Almost **12%** of increase! Going well!"
   ]
  },
  {
   "cell_type": "markdown",
   "id": "bbef6c9d",
   "metadata": {},
   "source": [
    "Let's check the **Learning Curves** as well, to make sure our model is not under/over-fitting."
   ]
  },
  {
   "cell_type": "code",
   "execution_count": 27,
   "id": "9c5fb94d",
   "metadata": {},
   "outputs": [
    {
     "data": {
      "text/plain": [
       "<matplotlib.legend.Legend at 0x7f89e4db6fa0>"
      ]
     },
     "execution_count": 27,
     "metadata": {},
     "output_type": "execute_result"
    },
    {
     "data": {
      "image/png": "[encoded data removed]",
      "text/plain": [
       "<Figure size 432x288 with 1 Axes>"
      ]
     },
     "metadata": {
      "needs_background": "light"
     },
     "output_type": "display_data"
    }
   ],
   "source": [
    "#Define our Train Sizes inside the function, or store it outside in a variable just like you did here;\n",
    "train_sizes = [25,50,75,100,250,500,750,1000,1500,2000,2500,3000,3500,4000]\n",
    "\n",
    "        #The function output consists in 5 arrays: train_sizes_abs, train_scores, test_scores, fit_times and score_times;\n",
    "        #The function performs an Automatic Cross Validation (again, the 'cv' is the number of folds);\n",
    "        #The 'estimator' must be an object that can perform both 'fit' and 'test' methods;\n",
    "train_sizes, train_scores, test_scores = learning_curve(DecisionTreeRegressor(max_depth=6, \n",
    "                                                                              min_samples_split=2, \n",
    "                                                                              min_samples_leaf=20), X=X, y=y, train_sizes=train_sizes, cv=5, scoring='r2')\n",
    "\n",
    "        #Compute the mean of the Cross-Validated Train Scores and Test Scores;\n",
    "train_scores_mean = np.mean(train_scores, axis=1)\n",
    "test_scores_mean = np.mean(test_scores, axis=1)\n",
    "\n",
    "        #And now plot the whole thing;\n",
    "plt.plot(train_sizes, train_scores_mean, label = 'Training score')\n",
    "plt.plot(train_sizes, test_scores_mean, label = 'Test score')\n",
    "plt.ylabel('r2 score', fontsize = 14)\n",
    "plt.xlabel('Training set size', fontsize = 14)\n",
    "plt.title('Learning curves', fontsize = 18, y = 1.03)\n",
    "plt.legend()"
   ]
  },
  {
   "cell_type": "markdown",
   "id": "fd82fc0e",
   "metadata": {},
   "source": [
    "## Random Forest"
   ]
  },
  {
   "cell_type": "markdown",
   "id": "b0b78915",
   "metadata": {},
   "source": [
    "Since the score still low, let's try modeling with a bunch of Trees."
   ]
  },
  {
   "cell_type": "code",
   "execution_count": 30,
   "id": "3c3962ac",
   "metadata": {},
   "outputs": [
    {
     "name": "stdout",
     "output_type": "stream",
     "text": [
      "0.6204999984372837 {'max_depth': 6, 'min_samples_leaf': 10, 'min_samples_split': 3, 'n_estimators': 80}\n"
     ]
    }
   ],
   "source": [
    "forest = RandomForestRegressor()\n",
    "\n",
    "grid = {'n_estimators': [80, 100, 120],\n",
    "        'max_depth': [4, 5, 6], \n",
    "        'min_samples_split': [2, 3, 4],\n",
    "        'min_samples_leaf': [10, 20, 30]}\n",
    "\n",
    "search = GridSearchCV(forest, grid, \n",
    "                           scoring = 'r2',\n",
    "                           cv = 5,\n",
    "                           n_jobs=-1 # paralellize computation\n",
    "                          )\n",
    "\n",
    "search.fit(X_train, y_train)\n",
    "print(search.best_score_, search.best_params_) # >>> 0.6204999984372837 {'max_depth': 6, 'min_samples_leaf': 10, 'min_samples_split': 3, 'n_estimators': 80}"
   ]
  },
  {
   "cell_type": "code",
   "execution_count": 36,
   "id": "fd59cd47",
   "metadata": {},
   "outputs": [
    {
     "data": {
      "text/plain": [
       "0.6370922957401515"
      ]
     },
     "execution_count": 36,
     "metadata": {},
     "output_type": "execute_result"
    }
   ],
   "source": [
    "forest = RandomForestRegressor(n_estimators=80, max_depth=6, min_samples_split=3, min_samples_leaf=10)\n",
    "\n",
    "cv_results = cross_validate(forest, X, y, scoring = \"r2\", cv=5)\n",
    "cv_results['test_score'].mean() # >>>> 0.6370335514350662"
   ]
  },
  {
   "cell_type": "code",
   "execution_count": 32,
   "id": "59ffb69e",
   "metadata": {},
   "outputs": [
    {
     "data": {
      "text/plain": [
       "<matplotlib.legend.Legend at 0x7f89d7361a60>"
      ]
     },
     "execution_count": 32,
     "metadata": {},
     "output_type": "execute_result"
    },
    {
     "data": {
      "image/png": "[encoded data removed]",
      "text/plain": [
       "<Figure size 432x288 with 1 Axes>"
      ]
     },
     "metadata": {
      "needs_background": "light"
     },
     "output_type": "display_data"
    }
   ],
   "source": [
    "#Define our Train Sizes inside the function, or store it outside in a variable just like you did here;\n",
    "train_sizes = [25,50,75,100,250,500,750,1000,1500,2000,2500,3000,3500,4000]\n",
    "\n",
    "        #The function output consists in 5 arrays: train_sizes_abs, train_scores, test_scores, fit_times and score_times;\n",
    "        #The function performs an Automatic Cross Validation (again, the 'cv' is the number of folds);\n",
    "        #The 'estimator' must be an object that can perform both 'fit' and 'test' methods;\n",
    "train_sizes, train_scores, test_scores = learning_curve(RandomForestRegressor(n_estimators=80, \n",
    "                                                                              max_depth=6, \n",
    "                                                                              min_samples_split=3, \n",
    "                                                                              min_samples_leaf=10), X=X, y=y, train_sizes=train_sizes, cv=5, scoring='r2')\n",
    "\n",
    "        #Compute the mean of the Cross-Validated Train Scores and Test Scores;\n",
    "train_scores_mean = np.mean(train_scores, axis=1)\n",
    "test_scores_mean = np.mean(test_scores, axis=1)\n",
    "\n",
    "        #And now plot the whole thing;\n",
    "plt.plot(train_sizes, train_scores_mean, label = 'Training score')\n",
    "plt.plot(train_sizes, test_scores_mean, label = 'Test score')\n",
    "plt.ylabel('r2 score', fontsize = 14)\n",
    "plt.xlabel('Training set size', fontsize = 14)\n",
    "plt.title('Learning curves', fontsize = 18, y = 1.03)\n",
    "plt.legend()"
   ]
  },
  {
   "cell_type": "markdown",
   "id": "25b19a16",
   "metadata": {},
   "source": [
    "Wow! Our R² is almost **0,64**! It improved by 0,15 compared to the model that didn't consider the regions! Which means: **THE REGIONS ARE PRETTY IMPORTANT!**"
   ]
  },
  {
   "cell_type": "code",
   "execution_count": 33,
   "id": "3f01ee80",
   "metadata": {},
   "outputs": [
    {
     "data": {
      "image/png": "[encoded data removed]",
      "text/plain": [
       "<Figure size 432x288 with 1 Axes>"
      ]
     },
     "metadata": {
      "needs_background": "light"
     },
     "output_type": "display_data"
    }
   ],
   "source": [
    "#Instantiating and trainning a model;\n",
    "model = RandomForestRegressor(n_estimators=80, max_depth=6, min_samples_split=3, min_samples_leaf=10).fit(X_train, y_train)\n",
    "#Predicting house prices with the model;\n",
    "predictions = model.predict(X_test)\n",
    "#Checking the difference between the predictions and the real prices\n",
    "residuals = y_test - predictions\n",
    "sns.histplot(residuals, bins=100, kde=True);"
   ]
  },
  {
   "cell_type": "markdown",
   "id": "8c50350e",
   "metadata": {},
   "source": [
    "We can clearly see how the residuals are more centered around zero and less scattered! This model may be a good choice after all!"
   ]
  },
  {
   "cell_type": "code",
   "execution_count": null,
   "id": "4a4336cf",
   "metadata": {},
   "outputs": [],
   "source": []
  },
  {
   "cell_type": "code",
   "execution_count": null,
   "id": "34a38167",
   "metadata": {},
   "outputs": [],
   "source": []
  },
  {
   "cell_type": "code",
   "execution_count": null,
   "id": "8c74a3bf",
   "metadata": {},
   "outputs": [],
   "source": []
  },
  {
   "cell_type": "code",
   "execution_count": null,
   "id": "a1ca0927",
   "metadata": {},
   "outputs": [],
   "source": []
  }
 ],
 "metadata": {
  "kernelspec": {
   "display_name": "Python 3 (ipykernel)",
   "language": "python",
   "name": "python3"
  },
  "language_info": {
   "codemirror_mode": {
    "name": "ipython",
    "version": 3
   },
   "file_extension": ".py",
   "mimetype": "text/x-python",
   "name": "python",
   "nbconvert_exporter": "python",
   "pygments_lexer": "ipython3",
   "version": "3.8.12"
  },
  "toc": {
   "base_numbering": 1,
   "nav_menu": {},
   "number_sections": true,
   "sideBar": true,
   "skip_h1_title": false,
   "title_cell": "Table of Contents",
   "title_sidebar": "Contents",
   "toc_cell": false,
   "toc_position": {},
   "toc_section_display": true,
   "toc_window_display": false
  }
 },
 "nbformat": 4,
 "nbformat_minor": 5
}
