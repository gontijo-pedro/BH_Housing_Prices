{
 "cells": [
  {
   "cell_type": "markdown",
   "id": "f49f4704",
   "metadata": {
    "heading_collapsed": true
   },
   "source": [
    "# Imports"
   ]
  },
  {
   "cell_type": "code",
   "execution_count": 1,
   "id": "e82e4258",
   "metadata": {
    "hidden": true
   },
   "outputs": [],
   "source": [
    "import pandas as pd"
   ]
  },
  {
   "cell_type": "markdown",
   "id": "be0fe874",
   "metadata": {
    "heading_collapsed": true
   },
   "source": [
    "# Importing and Analyzing the Dataset"
   ]
  },
  {
   "cell_type": "markdown",
   "id": "753096fb",
   "metadata": {
    "heading_collapsed": true,
    "hidden": true
   },
   "source": [
    "## Importing the Dataset"
   ]
  },
  {
   "cell_type": "code",
   "execution_count": 2,
   "id": "f3a1a8d5",
   "metadata": {
    "hidden": true
   },
   "outputs": [
    {
     "data": {
      "text/html": [
       "<div>\n",
       "<style scoped>\n",
       "    .dataframe tbody tr th:only-of-type {\n",
       "        vertical-align: middle;\n",
       "    }\n",
       "\n",
       "    .dataframe tbody tr th {\n",
       "        vertical-align: top;\n",
       "    }\n",
       "\n",
       "    .dataframe thead th {\n",
       "        text-align: right;\n",
       "    }\n",
       "</style>\n",
       "<table border=\"1\" class=\"dataframe\">\n",
       "  <thead>\n",
       "    <tr style=\"text-align: right;\">\n",
       "      <th></th>\n",
       "      <th>address</th>\n",
       "      <th>adm-fees</th>\n",
       "      <th>garage-places</th>\n",
       "      <th>price</th>\n",
       "      <th>rooms</th>\n",
       "      <th>square-foot</th>\n",
       "      <th>neighborhood</th>\n",
       "      <th>city</th>\n",
       "      <th>latitude</th>\n",
       "      <th>longitude</th>\n",
       "    </tr>\n",
       "  </thead>\n",
       "  <tbody>\n",
       "    <tr>\n",
       "      <th>0</th>\n",
       "      <td>Avenida Raja Gabaglia, 1583</td>\n",
       "      <td>470.0</td>\n",
       "      <td>1</td>\n",
       "      <td>330000.0</td>\n",
       "      <td>1</td>\n",
       "      <td>40</td>\n",
       "      <td>Luxemburgo</td>\n",
       "      <td>Belo Horizonte</td>\n",
       "      <td>-19.936415</td>\n",
       "      <td>-43.953396</td>\n",
       "    </tr>\n",
       "    <tr>\n",
       "      <th>1</th>\n",
       "      <td>Rua Espírito Santo, 1171</td>\n",
       "      <td>NaN</td>\n",
       "      <td>1</td>\n",
       "      <td>480000.0</td>\n",
       "      <td>2</td>\n",
       "      <td>45-65</td>\n",
       "      <td>Centro</td>\n",
       "      <td>Belo Horizonte</td>\n",
       "      <td>-18.864776</td>\n",
       "      <td>-41.121777</td>\n",
       "    </tr>\n",
       "    <tr>\n",
       "      <th>2</th>\n",
       "      <td>Rua dos Expedicionários, 1082</td>\n",
       "      <td>NaN</td>\n",
       "      <td>5</td>\n",
       "      <td>1190000.0</td>\n",
       "      <td>4</td>\n",
       "      <td>411</td>\n",
       "      <td>Santa Amélia</td>\n",
       "      <td>Belo Horizonte</td>\n",
       "      <td>-20.225241</td>\n",
       "      <td>-44.397780</td>\n",
       "    </tr>\n",
       "    <tr>\n",
       "      <th>3</th>\n",
       "      <td>Rua Marechal Hermes, 81</td>\n",
       "      <td>750.0</td>\n",
       "      <td>4</td>\n",
       "      <td>1590000.0</td>\n",
       "      <td>4</td>\n",
       "      <td>158</td>\n",
       "      <td>Gutierrez</td>\n",
       "      <td>Belo Horizonte</td>\n",
       "      <td>-19.937155</td>\n",
       "      <td>-43.958694</td>\n",
       "    </tr>\n",
       "    <tr>\n",
       "      <th>4</th>\n",
       "      <td>Rua Juruna, 110</td>\n",
       "      <td>NaN</td>\n",
       "      <td>6</td>\n",
       "      <td>550000.0</td>\n",
       "      <td>3</td>\n",
       "      <td>278</td>\n",
       "      <td>Pindorama</td>\n",
       "      <td>Belo Horizonte</td>\n",
       "      <td>-19.912982</td>\n",
       "      <td>-44.019944</td>\n",
       "    </tr>\n",
       "    <tr>\n",
       "      <th>...</th>\n",
       "      <td>...</td>\n",
       "      <td>...</td>\n",
       "      <td>...</td>\n",
       "      <td>...</td>\n",
       "      <td>...</td>\n",
       "      <td>...</td>\n",
       "      <td>...</td>\n",
       "      <td>...</td>\n",
       "      <td>...</td>\n",
       "      <td>...</td>\n",
       "    </tr>\n",
       "    <tr>\n",
       "      <th>5976</th>\n",
       "      <td>Rua Gama Cerqueira</td>\n",
       "      <td>340.0</td>\n",
       "      <td>2</td>\n",
       "      <td>560000.0</td>\n",
       "      <td>3</td>\n",
       "      <td>92</td>\n",
       "      <td>Nova Suíssa</td>\n",
       "      <td>Belo Horizonte</td>\n",
       "      <td>-19.945428</td>\n",
       "      <td>-43.970988</td>\n",
       "    </tr>\n",
       "    <tr>\n",
       "      <th>5977</th>\n",
       "      <td>Rua Arthur Lourenço, 262</td>\n",
       "      <td>200.0</td>\n",
       "      <td>1</td>\n",
       "      <td>440000.0</td>\n",
       "      <td>3</td>\n",
       "      <td>90</td>\n",
       "      <td>Barreiro</td>\n",
       "      <td>Belo Horizonte</td>\n",
       "      <td>-19.979915</td>\n",
       "      <td>-44.026007</td>\n",
       "    </tr>\n",
       "    <tr>\n",
       "      <th>5978</th>\n",
       "      <td>Rua General Ephigênio Ruas Santos</td>\n",
       "      <td>10.0</td>\n",
       "      <td>2</td>\n",
       "      <td>500000.0</td>\n",
       "      <td>3</td>\n",
       "      <td>80</td>\n",
       "      <td>Itapoã</td>\n",
       "      <td>Belo Horizonte</td>\n",
       "      <td>-19.840904</td>\n",
       "      <td>-43.956037</td>\n",
       "    </tr>\n",
       "    <tr>\n",
       "      <th>5979</th>\n",
       "      <td>Rua General Ephigênio Ruas Santos</td>\n",
       "      <td>10.0</td>\n",
       "      <td>2</td>\n",
       "      <td>740000.0</td>\n",
       "      <td>3</td>\n",
       "      <td>80</td>\n",
       "      <td>Itapoã</td>\n",
       "      <td>Belo Horizonte</td>\n",
       "      <td>-19.840904</td>\n",
       "      <td>-43.956037</td>\n",
       "    </tr>\n",
       "    <tr>\n",
       "      <th>5980</th>\n",
       "      <td>Avenida do Contorno</td>\n",
       "      <td>NaN</td>\n",
       "      <td>3</td>\n",
       "      <td>4990000.0</td>\n",
       "      <td>--</td>\n",
       "      <td>428</td>\n",
       "      <td>Savassi</td>\n",
       "      <td>Belo Horizonte</td>\n",
       "      <td>-19.915643</td>\n",
       "      <td>-43.945380</td>\n",
       "    </tr>\n",
       "  </tbody>\n",
       "</table>\n",
       "<p>5981 rows × 10 columns</p>\n",
       "</div>"
      ],
      "text/plain": [
       "                                 address  adm-fees garage-places      price  \\\n",
       "0           Avenida Raja Gabaglia, 1583      470.0             1   330000.0   \n",
       "1              Rua Espírito Santo, 1171        NaN             1   480000.0   \n",
       "2         Rua dos Expedicionários, 1082        NaN             5  1190000.0   \n",
       "3               Rua Marechal Hermes, 81      750.0             4  1590000.0   \n",
       "4                       Rua Juruna, 110        NaN             6   550000.0   \n",
       "...                                  ...       ...           ...        ...   \n",
       "5976                 Rua Gama Cerqueira      340.0             2   560000.0   \n",
       "5977           Rua Arthur Lourenço, 262      200.0             1   440000.0   \n",
       "5978  Rua General Ephigênio Ruas Santos       10.0             2   500000.0   \n",
       "5979  Rua General Ephigênio Ruas Santos       10.0             2   740000.0   \n",
       "5980                Avenida do Contorno        NaN             3  4990000.0   \n",
       "\n",
       "     rooms square-foot   neighborhood              city   latitude  longitude  \n",
       "0        1          40     Luxemburgo   Belo Horizonte  -19.936415 -43.953396  \n",
       "1        2       45-65         Centro   Belo Horizonte  -18.864776 -41.121777  \n",
       "2        4         411   Santa Amélia   Belo Horizonte  -20.225241 -44.397780  \n",
       "3        4         158      Gutierrez   Belo Horizonte  -19.937155 -43.958694  \n",
       "4        3         278      Pindorama   Belo Horizonte  -19.912982 -44.019944  \n",
       "...    ...         ...            ...               ...        ...        ...  \n",
       "5976     3          92    Nova Suíssa   Belo Horizonte  -19.945428 -43.970988  \n",
       "5977     3          90       Barreiro   Belo Horizonte  -19.979915 -44.026007  \n",
       "5978     3          80         Itapoã   Belo Horizonte  -19.840904 -43.956037  \n",
       "5979     3          80         Itapoã   Belo Horizonte  -19.840904 -43.956037  \n",
       "5980    --         428        Savassi   Belo Horizonte  -19.915643 -43.945380  \n",
       "\n",
       "[5981 rows x 10 columns]"
      ]
     },
     "execution_count": 2,
     "metadata": {},
     "output_type": "execute_result"
    }
   ],
   "source": [
    "raw_df = pd.read_csv('../raw_data/data.csv')\n",
    "raw_df"
   ]
  },
  {
   "cell_type": "markdown",
   "id": "4873ef76",
   "metadata": {
    "hidden": true
   },
   "source": [
    "Creating a copy of the main Dataset, so we don't mess the original."
   ]
  },
  {
   "cell_type": "code",
   "execution_count": 3,
   "id": "1c4c448f",
   "metadata": {
    "hidden": true
   },
   "outputs": [],
   "source": [
    "df = raw_df.copy()"
   ]
  },
  {
   "cell_type": "markdown",
   "id": "b1127a36",
   "metadata": {
    "hidden": true
   },
   "source": [
    "Checking the main structure of the data "
   ]
  },
  {
   "cell_type": "code",
   "execution_count": 4,
   "id": "4c1fa54c",
   "metadata": {
    "hidden": true
   },
   "outputs": [
    {
     "name": "stdout",
     "output_type": "stream",
     "text": [
      "<class 'pandas.core.frame.DataFrame'>\n",
      "RangeIndex: 5981 entries, 0 to 5980\n",
      "Data columns (total 10 columns):\n",
      " #   Column         Non-Null Count  Dtype  \n",
      "---  ------         --------------  -----  \n",
      " 0   address        5981 non-null   object \n",
      " 1   adm-fees       3977 non-null   float64\n",
      " 2   garage-places  5981 non-null   object \n",
      " 3   price          5951 non-null   float64\n",
      " 4   rooms          5981 non-null   object \n",
      " 5   square-foot    5981 non-null   object \n",
      " 6   neighborhood   5957 non-null   object \n",
      " 7   city           5981 non-null   object \n",
      " 8   latitude       5981 non-null   float64\n",
      " 9   longitude      5981 non-null   float64\n",
      "dtypes: float64(4), object(6)\n",
      "memory usage: 467.4+ KB\n"
     ]
    }
   ],
   "source": [
    "df.info()"
   ]
  },
  {
   "cell_type": "markdown",
   "id": "451d72d2",
   "metadata": {
    "heading_collapsed": true,
    "hidden": true
   },
   "source": [
    "## Checking for Duplicates"
   ]
  },
  {
   "cell_type": "code",
   "execution_count": 5,
   "id": "bf4f8205",
   "metadata": {
    "hidden": true
   },
   "outputs": [
    {
     "data": {
      "text/plain": [
       "0"
      ]
     },
     "execution_count": 5,
     "metadata": {},
     "output_type": "execute_result"
    }
   ],
   "source": [
    "df.duplicated().sum()"
   ]
  },
  {
   "cell_type": "markdown",
   "id": "6a7ae0c0",
   "metadata": {
    "hidden": true
   },
   "source": [
    "It doesn't seem to have any duplicated rows here."
   ]
  },
  {
   "cell_type": "markdown",
   "id": "af0924f2",
   "metadata": {
    "heading_collapsed": true,
    "hidden": true
   },
   "source": [
    "## Droping some columns that might cause us trouble"
   ]
  },
  {
   "cell_type": "markdown",
   "id": "c7d66c0d",
   "metadata": {
    "hidden": true
   },
   "source": [
    "The 'adm-fees' column has a lot of missing value. To be honest, more than 30%. So, as we can't get any insights about how to predict the values for the fees, let's drop this column for our first analysis."
   ]
  },
  {
   "cell_type": "code",
   "execution_count": 6,
   "id": "9262b8df",
   "metadata": {
    "hidden": true
   },
   "outputs": [
    {
     "data": {
      "text/plain": [
       "0.33506102658418324"
      ]
     },
     "execution_count": 6,
     "metadata": {},
     "output_type": "execute_result"
    }
   ],
   "source": [
    "1-(3977/5981)"
   ]
  },
  {
   "cell_type": "code",
   "execution_count": 7,
   "id": "74e1f7e6",
   "metadata": {
    "hidden": true
   },
   "outputs": [
    {
     "data": {
      "text/html": [
       "<div>\n",
       "<style scoped>\n",
       "    .dataframe tbody tr th:only-of-type {\n",
       "        vertical-align: middle;\n",
       "    }\n",
       "\n",
       "    .dataframe tbody tr th {\n",
       "        vertical-align: top;\n",
       "    }\n",
       "\n",
       "    .dataframe thead th {\n",
       "        text-align: right;\n",
       "    }\n",
       "</style>\n",
       "<table border=\"1\" class=\"dataframe\">\n",
       "  <thead>\n",
       "    <tr style=\"text-align: right;\">\n",
       "      <th></th>\n",
       "      <th>address</th>\n",
       "      <th>garage-places</th>\n",
       "      <th>price</th>\n",
       "      <th>rooms</th>\n",
       "      <th>square-foot</th>\n",
       "      <th>neighborhood</th>\n",
       "      <th>city</th>\n",
       "      <th>latitude</th>\n",
       "      <th>longitude</th>\n",
       "    </tr>\n",
       "  </thead>\n",
       "  <tbody>\n",
       "    <tr>\n",
       "      <th>0</th>\n",
       "      <td>Avenida Raja Gabaglia, 1583</td>\n",
       "      <td>1</td>\n",
       "      <td>330000.0</td>\n",
       "      <td>1</td>\n",
       "      <td>40</td>\n",
       "      <td>Luxemburgo</td>\n",
       "      <td>Belo Horizonte</td>\n",
       "      <td>-19.936415</td>\n",
       "      <td>-43.953396</td>\n",
       "    </tr>\n",
       "    <tr>\n",
       "      <th>1</th>\n",
       "      <td>Rua Espírito Santo, 1171</td>\n",
       "      <td>1</td>\n",
       "      <td>480000.0</td>\n",
       "      <td>2</td>\n",
       "      <td>45-65</td>\n",
       "      <td>Centro</td>\n",
       "      <td>Belo Horizonte</td>\n",
       "      <td>-18.864776</td>\n",
       "      <td>-41.121777</td>\n",
       "    </tr>\n",
       "    <tr>\n",
       "      <th>2</th>\n",
       "      <td>Rua dos Expedicionários, 1082</td>\n",
       "      <td>5</td>\n",
       "      <td>1190000.0</td>\n",
       "      <td>4</td>\n",
       "      <td>411</td>\n",
       "      <td>Santa Amélia</td>\n",
       "      <td>Belo Horizonte</td>\n",
       "      <td>-20.225241</td>\n",
       "      <td>-44.397780</td>\n",
       "    </tr>\n",
       "    <tr>\n",
       "      <th>3</th>\n",
       "      <td>Rua Marechal Hermes, 81</td>\n",
       "      <td>4</td>\n",
       "      <td>1590000.0</td>\n",
       "      <td>4</td>\n",
       "      <td>158</td>\n",
       "      <td>Gutierrez</td>\n",
       "      <td>Belo Horizonte</td>\n",
       "      <td>-19.937155</td>\n",
       "      <td>-43.958694</td>\n",
       "    </tr>\n",
       "    <tr>\n",
       "      <th>4</th>\n",
       "      <td>Rua Juruna, 110</td>\n",
       "      <td>6</td>\n",
       "      <td>550000.0</td>\n",
       "      <td>3</td>\n",
       "      <td>278</td>\n",
       "      <td>Pindorama</td>\n",
       "      <td>Belo Horizonte</td>\n",
       "      <td>-19.912982</td>\n",
       "      <td>-44.019944</td>\n",
       "    </tr>\n",
       "    <tr>\n",
       "      <th>...</th>\n",
       "      <td>...</td>\n",
       "      <td>...</td>\n",
       "      <td>...</td>\n",
       "      <td>...</td>\n",
       "      <td>...</td>\n",
       "      <td>...</td>\n",
       "      <td>...</td>\n",
       "      <td>...</td>\n",
       "      <td>...</td>\n",
       "    </tr>\n",
       "    <tr>\n",
       "      <th>5976</th>\n",
       "      <td>Rua Gama Cerqueira</td>\n",
       "      <td>2</td>\n",
       "      <td>560000.0</td>\n",
       "      <td>3</td>\n",
       "      <td>92</td>\n",
       "      <td>Nova Suíssa</td>\n",
       "      <td>Belo Horizonte</td>\n",
       "      <td>-19.945428</td>\n",
       "      <td>-43.970988</td>\n",
       "    </tr>\n",
       "    <tr>\n",
       "      <th>5977</th>\n",
       "      <td>Rua Arthur Lourenço, 262</td>\n",
       "      <td>1</td>\n",
       "      <td>440000.0</td>\n",
       "      <td>3</td>\n",
       "      <td>90</td>\n",
       "      <td>Barreiro</td>\n",
       "      <td>Belo Horizonte</td>\n",
       "      <td>-19.979915</td>\n",
       "      <td>-44.026007</td>\n",
       "    </tr>\n",
       "    <tr>\n",
       "      <th>5978</th>\n",
       "      <td>Rua General Ephigênio Ruas Santos</td>\n",
       "      <td>2</td>\n",
       "      <td>500000.0</td>\n",
       "      <td>3</td>\n",
       "      <td>80</td>\n",
       "      <td>Itapoã</td>\n",
       "      <td>Belo Horizonte</td>\n",
       "      <td>-19.840904</td>\n",
       "      <td>-43.956037</td>\n",
       "    </tr>\n",
       "    <tr>\n",
       "      <th>5979</th>\n",
       "      <td>Rua General Ephigênio Ruas Santos</td>\n",
       "      <td>2</td>\n",
       "      <td>740000.0</td>\n",
       "      <td>3</td>\n",
       "      <td>80</td>\n",
       "      <td>Itapoã</td>\n",
       "      <td>Belo Horizonte</td>\n",
       "      <td>-19.840904</td>\n",
       "      <td>-43.956037</td>\n",
       "    </tr>\n",
       "    <tr>\n",
       "      <th>5980</th>\n",
       "      <td>Avenida do Contorno</td>\n",
       "      <td>3</td>\n",
       "      <td>4990000.0</td>\n",
       "      <td>--</td>\n",
       "      <td>428</td>\n",
       "      <td>Savassi</td>\n",
       "      <td>Belo Horizonte</td>\n",
       "      <td>-19.915643</td>\n",
       "      <td>-43.945380</td>\n",
       "    </tr>\n",
       "  </tbody>\n",
       "</table>\n",
       "<p>5981 rows × 9 columns</p>\n",
       "</div>"
      ],
      "text/plain": [
       "                                 address garage-places      price rooms  \\\n",
       "0           Avenida Raja Gabaglia, 1583              1   330000.0     1   \n",
       "1              Rua Espírito Santo, 1171              1   480000.0     2   \n",
       "2         Rua dos Expedicionários, 1082              5  1190000.0     4   \n",
       "3               Rua Marechal Hermes, 81              4  1590000.0     4   \n",
       "4                       Rua Juruna, 110              6   550000.0     3   \n",
       "...                                  ...           ...        ...   ...   \n",
       "5976                 Rua Gama Cerqueira              2   560000.0     3   \n",
       "5977           Rua Arthur Lourenço, 262              1   440000.0     3   \n",
       "5978  Rua General Ephigênio Ruas Santos              2   500000.0     3   \n",
       "5979  Rua General Ephigênio Ruas Santos              2   740000.0     3   \n",
       "5980                Avenida do Contorno              3  4990000.0    --   \n",
       "\n",
       "     square-foot   neighborhood              city   latitude  longitude  \n",
       "0             40     Luxemburgo   Belo Horizonte  -19.936415 -43.953396  \n",
       "1          45-65         Centro   Belo Horizonte  -18.864776 -41.121777  \n",
       "2            411   Santa Amélia   Belo Horizonte  -20.225241 -44.397780  \n",
       "3            158      Gutierrez   Belo Horizonte  -19.937155 -43.958694  \n",
       "4            278      Pindorama   Belo Horizonte  -19.912982 -44.019944  \n",
       "...          ...            ...               ...        ...        ...  \n",
       "5976          92    Nova Suíssa   Belo Horizonte  -19.945428 -43.970988  \n",
       "5977          90       Barreiro   Belo Horizonte  -19.979915 -44.026007  \n",
       "5978          80         Itapoã   Belo Horizonte  -19.840904 -43.956037  \n",
       "5979          80         Itapoã   Belo Horizonte  -19.840904 -43.956037  \n",
       "5980         428        Savassi   Belo Horizonte  -19.915643 -43.945380  \n",
       "\n",
       "[5981 rows x 9 columns]"
      ]
     },
     "execution_count": 7,
     "metadata": {},
     "output_type": "execute_result"
    }
   ],
   "source": [
    "df.drop(columns='adm-fees', inplace=True)\n",
    "df"
   ]
  },
  {
   "cell_type": "code",
   "execution_count": 8,
   "id": "0a2a805f",
   "metadata": {
    "hidden": true
   },
   "outputs": [
    {
     "data": {
      "text/plain": [
       "address           0\n",
       "garage-places     0\n",
       "price            30\n",
       "rooms             0\n",
       "square-foot       0\n",
       "neighborhood     24\n",
       "city              0\n",
       "latitude          0\n",
       "longitude         0\n",
       "dtype: int64"
      ]
     },
     "execution_count": 8,
     "metadata": {},
     "output_type": "execute_result"
    }
   ],
   "source": [
    "df.isnull().sum()"
   ]
  },
  {
   "cell_type": "markdown",
   "id": "a2ff30b7",
   "metadata": {
    "hidden": true
   },
   "source": [
    "We still have some missing values here! Since we are dealing with a small amount of data, let's drop it!"
   ]
  },
  {
   "cell_type": "code",
   "execution_count": 9,
   "id": "e8e4f6a6",
   "metadata": {
    "hidden": true
   },
   "outputs": [],
   "source": [
    "df.dropna(inplace=True)"
   ]
  },
  {
   "cell_type": "code",
   "execution_count": 10,
   "id": "9d0c87d7",
   "metadata": {
    "hidden": true
   },
   "outputs": [
    {
     "data": {
      "text/plain": [
       "(5927, 9)"
      ]
     },
     "execution_count": 10,
     "metadata": {},
     "output_type": "execute_result"
    }
   ],
   "source": [
    "df.shape"
   ]
  },
  {
   "cell_type": "markdown",
   "id": "5e4ce44f",
   "metadata": {
    "heading_collapsed": true,
    "hidden": true
   },
   "source": [
    "## Checking the values of the remaining columns"
   ]
  },
  {
   "cell_type": "code",
   "execution_count": 11,
   "id": "1a2c7151",
   "metadata": {
    "hidden": true
   },
   "outputs": [
    {
     "data": {
      "text/plain": [
       "Index(['address', 'garage-places', 'price', 'rooms', 'square-foot',\n",
       "       'neighborhood', 'city', 'latitude', 'longitude'],\n",
       "      dtype='object')"
      ]
     },
     "execution_count": 11,
     "metadata": {},
     "output_type": "execute_result"
    }
   ],
   "source": [
    "df.columns"
   ]
  },
  {
   "cell_type": "markdown",
   "id": "e8597671",
   "metadata": {
    "heading_collapsed": true,
    "hidden": true
   },
   "source": [
    "### City (From 5927 to 5832)"
   ]
  },
  {
   "cell_type": "code",
   "execution_count": 12,
   "id": "828989bc",
   "metadata": {
    "hidden": true
   },
   "outputs": [
    {
     "data": {
      "text/plain": [
       " Belo Horizonte         5899\n",
       " Contagem                  5\n",
       " Nova Lima                 4\n",
       " Sabará                    4\n",
       " Ribeirão das Neves        2\n",
       " Lagoa Santa               2\n",
       " 461                       2\n",
       " Santa Luzia               1\n",
       " Betim                     1\n",
       " 1122                      1\n",
       " 1542                      1\n",
       " 570                       1\n",
       " 1601                      1\n",
       " São Paulo                 1\n",
       " 22                        1\n",
       " 31                        1\n",
       "Name: city, dtype: int64"
      ]
     },
     "execution_count": 12,
     "metadata": {},
     "output_type": "execute_result"
    }
   ],
   "source": [
    "df['city'].value_counts()"
   ]
  },
  {
   "cell_type": "markdown",
   "id": "41a1c26b",
   "metadata": {
    "hidden": true
   },
   "source": [
    "Since we are dealing with Belo Horizonte, we could consider Contagem, Nova Lima, Sabará, Ribeirão das Neves, Betim, Santa Luzia and Lagoa Santa. However, their values are drastically smaller than Belo Horizonte's. This could result in an unbalanced set. So, as a best practice, let's drop all the rows from cities different than Belo Horizonte."
   ]
  },
  {
   "cell_type": "code",
   "execution_count": 13,
   "id": "be407f19",
   "metadata": {
    "hidden": true
   },
   "outputs": [],
   "source": [
    "df['city'].replace(' Belo Horizonte ', 'Belo Horizonte', inplace=True)"
   ]
  },
  {
   "cell_type": "code",
   "execution_count": 14,
   "id": "b83d83d4",
   "metadata": {
    "hidden": true
   },
   "outputs": [],
   "source": [
    "df = df[df['city'] == 'Belo Horizonte']"
   ]
  },
  {
   "cell_type": "code",
   "execution_count": 15,
   "id": "fe424a7a",
   "metadata": {
    "hidden": true
   },
   "outputs": [
    {
     "data": {
      "text/plain": [
       "Belo Horizonte    5899\n",
       "Name: city, dtype: int64"
      ]
     },
     "execution_count": 15,
     "metadata": {},
     "output_type": "execute_result"
    }
   ],
   "source": [
    "df['city'].value_counts()"
   ]
  },
  {
   "cell_type": "markdown",
   "id": "822bd742",
   "metadata": {
    "hidden": true
   },
   "source": [
    "Let's check if, after changing the city name, something happened."
   ]
  },
  {
   "cell_type": "code",
   "execution_count": 16,
   "id": "be3ea76a",
   "metadata": {
    "hidden": true
   },
   "outputs": [
    {
     "data": {
      "text/plain": [
       "67"
      ]
     },
     "execution_count": 16,
     "metadata": {},
     "output_type": "execute_result"
    }
   ],
   "source": [
    "df.duplicated().sum()"
   ]
  },
  {
   "cell_type": "markdown",
   "id": "dd1c34d3",
   "metadata": {
    "hidden": true
   },
   "source": [
    "Probably, since we are dealing with houses AND APARTMENTS, there might be records that deals with different apartments in a same building! The number of duplicated files is not high, so we better drop them to avoid future problems."
   ]
  },
  {
   "cell_type": "code",
   "execution_count": 17,
   "id": "9a8d8842",
   "metadata": {
    "hidden": true
   },
   "outputs": [],
   "source": [
    "df = df.drop_duplicates()"
   ]
  },
  {
   "cell_type": "code",
   "execution_count": 18,
   "id": "25ac0a58",
   "metadata": {
    "hidden": true
   },
   "outputs": [
    {
     "data": {
      "text/plain": [
       "(5832, 9)"
      ]
     },
     "execution_count": 18,
     "metadata": {},
     "output_type": "execute_result"
    }
   ],
   "source": [
    "df.shape"
   ]
  },
  {
   "cell_type": "markdown",
   "id": "7298b53a",
   "metadata": {
    "heading_collapsed": true,
    "hidden": true
   },
   "source": [
    "### Neighborhood (From 5832 to 5832)"
   ]
  },
  {
   "cell_type": "code",
   "execution_count": 19,
   "id": "7ec81593",
   "metadata": {
    "hidden": true
   },
   "outputs": [
    {
     "data": {
      "text/plain": [
       "array([' Luxemburgo', ' Centro', ' Santa Amélia', ' Gutierrez',\n",
       "       ' Pindorama', ' Castelo', ' Santo Antônio', ' Sagrada Família',\n",
       "       ' Sion', ' Lourdes', ' Santa Efigênia', ' Santa Tereza',\n",
       "       ' Nova Gameleira', ' São João Batista', ' Nova Suíssa',\n",
       "       ' São Gabriel', ' Ouro Preto', ' Alto Barroca', ' Goiânia',\n",
       "       ' Maria Helena', ' Belvedere', ' Cidade Nova', ' Vitória',\n",
       "       ' Savassi', ' João Pinheiro', ' Itapoã', ' São Tomaz',\n",
       "       ' Boa Vista', ' Prado', ' Santa Branca', ' São Pedro', ' Buritis',\n",
       "       ' Colégio Batista', ' Serra', ' Santo Agostinho', ' Horto',\n",
       "       ' Funcionários', ' Califórnia', ' Granja De Freitas', ' Braúnas',\n",
       "       ' São Lucas', ' Coração Eucarístico', ' Serrano', ' Anchieta',\n",
       "       ' Cruzeiro', ' Caiçara Adeláide', ' Santa Cruz', ' Vila Paris',\n",
       "       ' Gameleira', ' São José', ' Mantiqueira', ' Diamante', ' Grajaú',\n",
       "       ' Santa Lúcia', ' Ipiranga', ' Planalto', ' Barreiro',\n",
       "       ' São Bento', ' Pampulha', ' Jardim dos Comerciários',\n",
       "       ' Bandeirantes', ' Candelaria', ' Juliana', ' Bonfim',\n",
       "       ' Barro Preto', ' Marajó', ' Floresta', ' Penha', ' Santa Mônica',\n",
       "       ' Venda Nova', ' Nova Granada', ' Cachoeirinha',\n",
       "       ' Padre Eustáquio', ' Itatiaia', ' São Luíz', ' União',\n",
       "       ' Santa Inês', ' Floramar', ' Liberdade', ' Jardim Guanabara',\n",
       "       ' Graça', ' Beija Flor', ' Palmares', ' Concórdia', ' Copacabana',\n",
       "       ' Santa Maria', ' Madre Gertrudes', ' Carlos Prates',\n",
       "       ' Providência', ' Dona Clara', ' Estoril', ' Nova Vista',\n",
       "       ' Jonas Veiga', ' Ouro Minas', ' Cinqüentenário', ' Cidade Jardim',\n",
       "       ' Havaí', ' Serra Verde', ' Álvaro Camargos', ' Estrela Dalva',\n",
       "       ' Calafate', ' Barroca', ' Frei Leopoldo', ' Paquetá', ' Canaã',\n",
       "       ' Paraíso', ' Guarani', ' Alto dos Pinheiros', ' Mangabeiras',\n",
       "       ' Heliópolis', ' Jaraguá', ' Comiteco', ' Caiçaras',\n",
       "       ' Etelvina Carneiro', ' Jardim Leblon', ' Alípio de Melo',\n",
       "       ' Manacás', ' Carmo', ' Estrela do Oriente', ' Saudade',\n",
       "       ' Renascença', ' Jardim Vitória', ' Aparecida', ' Jardim América',\n",
       "       ' Xodó Marize', ' Palmeiras', ' Maria Tereza', ' Letícia',\n",
       "       ' Betânia', ' Rio Branco', ' Fernão Dias', ' Camargos',\n",
       "       ' Santa Terezinha', ' Silveira', ' Europa', ' Casa Branca',\n",
       "       ' Parque Leblon', ' Céu Azul', ' Alto dos Caiçaras',\n",
       "       ' Salgado Filho', ' Pirajá', ' Monsenhor Messias', ' Trevo',\n",
       "       ' Jardim Atlântico', ' Santa Rosa', ' Garças',\n",
       "       ' Piratininga Venda Nova', ' Minaslandia P Maio',\n",
       "       ' Jardim Europa venda Nova', ' Jaqueline', ' São Cristóvão',\n",
       "       ' São Geraldo', ' São Francisco', ' Bonsucesso', ' Miramar',\n",
       "       ' Vila Clóris', ' Vera Cruz', ' Sinimbu', ' Tirol',\n",
       "       ' Engenho Nogueira', ' Glória', ' Jardim Paqueta', ' Minas Brasil',\n",
       "       ' Bonsucesso Barreiro', ' Parque São José', ' Milionários',\n",
       "       ' Solar do Barreiro', ' Lagoinha', ' Novo Glória', ' Araguaia',\n",
       "       ' Dom Bosco', ' Coração de Jesus', ' Primeiro de Maio',\n",
       "       ' Vista Alegre', ' Santa Helena', ' Nova Floresta', ' Nazaré',\n",
       "       ' Flávio Marques Lisboa', ' Visconde do Rio Branco', ' Pompéia',\n",
       "       ' Cenaculo', ' Vila Oeste', ' Olaria', ' Minascaixa', ' Esplanada',\n",
       "       ' Brasil Industrial', ' Minaslândia', ' Parque Copacabana',\n",
       "       ' São Salvador', ' Ipê', ' Glalijá', ' Jardim Montanhês',\n",
       "       ' Jardim dos Pirineus', ' Distrito Industrial Vale do Jatobá',\n",
       "       ' Conjunto Jardim Filadélfia', ' Santo André', ' Cardoso Barreiro',\n",
       "       ' Coqueiros', ' Parque Sao Pedro Venda Nova', ' Novo Letícia',\n",
       "       ' Conjunto Celso Machado', ' Castanheira', ' Itaipu Barreiro',\n",
       "       ' Santa Sofia', ' Maria Virgínia', ' Teixeira Dias Barreiro',\n",
       "       ' Horto Florestal', ' Aeroporto', ' Conjunto Califórnia', ' Urca',\n",
       "       ' Parque Pedro II', ' Petrópolis'], dtype=object)"
      ]
     },
     "execution_count": 19,
     "metadata": {},
     "output_type": "execute_result"
    }
   ],
   "source": [
    "df['neighborhood'].unique()"
   ]
  },
  {
   "cell_type": "markdown",
   "id": "6a45b194",
   "metadata": {
    "hidden": true
   },
   "source": [
    "We can spot some **white spaces** in the names. Let's strip them!"
   ]
  },
  {
   "cell_type": "code",
   "execution_count": 20,
   "id": "13787602",
   "metadata": {
    "hidden": true
   },
   "outputs": [],
   "source": [
    "#Stripping\n",
    "df['neighborhood'] = df['neighborhood'].str.strip()"
   ]
  },
  {
   "cell_type": "code",
   "execution_count": 21,
   "id": "f3574dc0",
   "metadata": {
    "hidden": true
   },
   "outputs": [
    {
     "data": {
      "text/plain": [
       "['Aeroporto',\n",
       " 'Alto Barroca',\n",
       " 'Alto dos Caiçaras',\n",
       " 'Alto dos Pinheiros',\n",
       " 'Alípio de Melo',\n",
       " 'Anchieta',\n",
       " 'Aparecida',\n",
       " 'Araguaia',\n",
       " 'Bandeirantes',\n",
       " 'Barreiro',\n",
       " 'Barro Preto',\n",
       " 'Barroca',\n",
       " 'Beija Flor',\n",
       " 'Belvedere',\n",
       " 'Betânia',\n",
       " 'Boa Vista',\n",
       " 'Bonfim',\n",
       " 'Bonsucesso',\n",
       " 'Bonsucesso Barreiro',\n",
       " 'Brasil Industrial',\n",
       " 'Braúnas',\n",
       " 'Buritis',\n",
       " 'Cachoeirinha',\n",
       " 'Caiçara Adeláide',\n",
       " 'Caiçaras',\n",
       " 'Calafate',\n",
       " 'Califórnia',\n",
       " 'Camargos',\n",
       " 'Canaã',\n",
       " 'Candelaria',\n",
       " 'Cardoso Barreiro',\n",
       " 'Carlos Prates',\n",
       " 'Carmo',\n",
       " 'Casa Branca',\n",
       " 'Castanheira',\n",
       " 'Castelo',\n",
       " 'Cenaculo',\n",
       " 'Centro',\n",
       " 'Cidade Jardim',\n",
       " 'Cidade Nova',\n",
       " 'Cinqüentenário',\n",
       " 'Colégio Batista',\n",
       " 'Comiteco',\n",
       " 'Concórdia',\n",
       " 'Conjunto Califórnia',\n",
       " 'Conjunto Celso Machado',\n",
       " 'Conjunto Jardim Filadélfia',\n",
       " 'Copacabana',\n",
       " 'Coqueiros',\n",
       " 'Coração Eucarístico',\n",
       " 'Coração de Jesus',\n",
       " 'Cruzeiro',\n",
       " 'Céu Azul',\n",
       " 'Diamante',\n",
       " 'Distrito Industrial Vale do Jatobá',\n",
       " 'Dom Bosco',\n",
       " 'Dona Clara',\n",
       " 'Engenho Nogueira',\n",
       " 'Esplanada',\n",
       " 'Estoril',\n",
       " 'Estrela Dalva',\n",
       " 'Estrela do Oriente',\n",
       " 'Etelvina Carneiro',\n",
       " 'Europa',\n",
       " 'Fernão Dias',\n",
       " 'Floramar',\n",
       " 'Floresta',\n",
       " 'Flávio Marques Lisboa',\n",
       " 'Frei Leopoldo',\n",
       " 'Funcionários',\n",
       " 'Gameleira',\n",
       " 'Garças',\n",
       " 'Glalijá',\n",
       " 'Glória',\n",
       " 'Goiânia',\n",
       " 'Grajaú',\n",
       " 'Granja De Freitas',\n",
       " 'Graça',\n",
       " 'Guarani',\n",
       " 'Gutierrez',\n",
       " 'Havaí',\n",
       " 'Heliópolis',\n",
       " 'Horto',\n",
       " 'Horto Florestal',\n",
       " 'Ipiranga',\n",
       " 'Ipê',\n",
       " 'Itaipu Barreiro',\n",
       " 'Itapoã',\n",
       " 'Itatiaia',\n",
       " 'Jaqueline',\n",
       " 'Jaraguá',\n",
       " 'Jardim América',\n",
       " 'Jardim Atlântico',\n",
       " 'Jardim Europa venda Nova',\n",
       " 'Jardim Guanabara',\n",
       " 'Jardim Leblon',\n",
       " 'Jardim Montanhês',\n",
       " 'Jardim Paqueta',\n",
       " 'Jardim Vitória',\n",
       " 'Jardim dos Comerciários',\n",
       " 'Jardim dos Pirineus',\n",
       " 'Jonas Veiga',\n",
       " 'João Pinheiro',\n",
       " 'Juliana',\n",
       " 'Lagoinha',\n",
       " 'Letícia',\n",
       " 'Liberdade',\n",
       " 'Lourdes',\n",
       " 'Luxemburgo',\n",
       " 'Madre Gertrudes',\n",
       " 'Manacás',\n",
       " 'Mangabeiras',\n",
       " 'Mantiqueira',\n",
       " 'Marajó',\n",
       " 'Maria Helena',\n",
       " 'Maria Tereza',\n",
       " 'Maria Virgínia',\n",
       " 'Milionários',\n",
       " 'Minas Brasil',\n",
       " 'Minascaixa',\n",
       " 'Minaslandia P Maio',\n",
       " 'Minaslândia',\n",
       " 'Miramar',\n",
       " 'Monsenhor Messias',\n",
       " 'Nazaré',\n",
       " 'Nova Floresta',\n",
       " 'Nova Gameleira',\n",
       " 'Nova Granada',\n",
       " 'Nova Suíssa',\n",
       " 'Nova Vista',\n",
       " 'Novo Glória',\n",
       " 'Novo Letícia',\n",
       " 'Olaria',\n",
       " 'Ouro Minas',\n",
       " 'Ouro Preto',\n",
       " 'Padre Eustáquio',\n",
       " 'Palmares',\n",
       " 'Palmeiras',\n",
       " 'Pampulha',\n",
       " 'Paquetá',\n",
       " 'Paraíso',\n",
       " 'Parque Copacabana',\n",
       " 'Parque Leblon',\n",
       " 'Parque Pedro II',\n",
       " 'Parque Sao Pedro Venda Nova',\n",
       " 'Parque São José',\n",
       " 'Penha',\n",
       " 'Petrópolis',\n",
       " 'Pindorama',\n",
       " 'Pirajá',\n",
       " 'Piratininga Venda Nova',\n",
       " 'Planalto',\n",
       " 'Pompéia',\n",
       " 'Prado',\n",
       " 'Primeiro de Maio',\n",
       " 'Providência',\n",
       " 'Renascença',\n",
       " 'Rio Branco',\n",
       " 'Sagrada Família',\n",
       " 'Salgado Filho',\n",
       " 'Santa Amélia',\n",
       " 'Santa Branca',\n",
       " 'Santa Cruz',\n",
       " 'Santa Efigênia',\n",
       " 'Santa Helena',\n",
       " 'Santa Inês',\n",
       " 'Santa Lúcia',\n",
       " 'Santa Maria',\n",
       " 'Santa Mônica',\n",
       " 'Santa Rosa',\n",
       " 'Santa Sofia',\n",
       " 'Santa Tereza',\n",
       " 'Santa Terezinha',\n",
       " 'Santo Agostinho',\n",
       " 'Santo André',\n",
       " 'Santo Antônio',\n",
       " 'Saudade',\n",
       " 'Savassi',\n",
       " 'Serra',\n",
       " 'Serra Verde',\n",
       " 'Serrano',\n",
       " 'Silveira',\n",
       " 'Sinimbu',\n",
       " 'Sion',\n",
       " 'Solar do Barreiro',\n",
       " 'São Bento',\n",
       " 'São Cristóvão',\n",
       " 'São Francisco',\n",
       " 'São Gabriel',\n",
       " 'São Geraldo',\n",
       " 'São José',\n",
       " 'São João Batista',\n",
       " 'São Lucas',\n",
       " 'São Luíz',\n",
       " 'São Pedro',\n",
       " 'São Salvador',\n",
       " 'São Tomaz',\n",
       " 'Teixeira Dias Barreiro',\n",
       " 'Tirol',\n",
       " 'Trevo',\n",
       " 'União',\n",
       " 'Urca',\n",
       " 'Venda Nova',\n",
       " 'Vera Cruz',\n",
       " 'Vila Clóris',\n",
       " 'Vila Oeste',\n",
       " 'Vila Paris',\n",
       " 'Visconde do Rio Branco',\n",
       " 'Vista Alegre',\n",
       " 'Vitória',\n",
       " 'Xodó Marize',\n",
       " 'Álvaro Camargos']"
      ]
     },
     "execution_count": 21,
     "metadata": {},
     "output_type": "execute_result"
    }
   ],
   "source": [
    "#Checking the values to see if we spot something weird\n",
    "sorted(df['neighborhood'].unique())"
   ]
  },
  {
   "cell_type": "code",
   "execution_count": 22,
   "id": "7889ad58",
   "metadata": {
    "hidden": true
   },
   "outputs": [
    {
     "data": {
      "text/plain": [
       "(5832, 9)"
      ]
     },
     "execution_count": 22,
     "metadata": {},
     "output_type": "execute_result"
    }
   ],
   "source": [
    "df.shape"
   ]
  },
  {
   "cell_type": "markdown",
   "id": "cbff891f",
   "metadata": {
    "heading_collapsed": true,
    "hidden": true
   },
   "source": [
    "### Garage Places (From 5832 to 5804)"
   ]
  },
  {
   "cell_type": "code",
   "execution_count": 23,
   "id": "ffe87632",
   "metadata": {
    "hidden": true
   },
   "outputs": [
    {
     "data": {
      "text/plain": [
       "2      2184\n",
       "1      1429\n",
       "3       807\n",
       "4       558\n",
       "--      545\n",
       "5       109\n",
       "6        84\n",
       "8        30\n",
       "10       25\n",
       "7        17\n",
       "3-4       6\n",
       "2-3       5\n",
       "11        5\n",
       "15        4\n",
       "13        4\n",
       "20        3\n",
       "1-2       3\n",
       "12        2\n",
       "9         2\n",
       "46        2\n",
       "50        1\n",
       "18        1\n",
       "28        1\n",
       "25        1\n",
       "40        1\n",
       "22        1\n",
       "19        1\n",
       "17        1\n",
       "Name: garage-places, dtype: int64"
      ]
     },
     "execution_count": 23,
     "metadata": {},
     "output_type": "execute_result"
    }
   ],
   "source": [
    "df['garage-places'].value_counts()"
   ]
  },
  {
   "cell_type": "markdown",
   "id": "8282f89d",
   "metadata": {
    "hidden": true
   },
   "source": [
    "There's a lot of weird numbers here. Let's drop everything above 10 spots and rename the ones we will use and are mislabeled."
   ]
  },
  {
   "cell_type": "code",
   "execution_count": 24,
   "id": "92abbf6e",
   "metadata": {
    "hidden": true
   },
   "outputs": [],
   "source": [
    "#Let's assume '--' is '0'\n",
    "df['garage-places'].replace('--', 0, inplace=True)\n",
    "\n",
    "#Since we have more rows with 2 than 1, let's replace '1-2' for '2'\n",
    "df['garage-places'].replace('1-2', 2, inplace=True)\n",
    "\n",
    "#Since we have more rows with 2 than 3, let's replace '2-3' for '2'\n",
    "df['garage-places'].replace('2-3', 2, inplace=True)\n",
    "\n",
    "#Since we have more rows with 3 than 4, let's replace '3-4' for '3'\n",
    "df['garage-places'].replace('3-4', 3, inplace=True)\n",
    "\n",
    "#Let's replace '1-3' by its mean, '2'\n",
    "df['garage-places'].replace('1-3', 2, inplace=True)\n",
    "\n",
    "#Let's replace '2-4' by its mean, '3'\n",
    "df['garage-places'].replace('2-4', 3, inplace=True)"
   ]
  },
  {
   "cell_type": "code",
   "execution_count": 25,
   "id": "61c89a08",
   "metadata": {
    "hidden": true
   },
   "outputs": [],
   "source": [
    "df['garage-places'] = df['garage-places'].astype(int)"
   ]
  },
  {
   "cell_type": "code",
   "execution_count": 26,
   "id": "54553386",
   "metadata": {
    "hidden": true
   },
   "outputs": [],
   "source": [
    "df = df[df['garage-places'] < 11]"
   ]
  },
  {
   "cell_type": "code",
   "execution_count": 27,
   "id": "6b4341fc",
   "metadata": {
    "hidden": true
   },
   "outputs": [
    {
     "data": {
      "text/plain": [
       "[0, 1, 2, 3, 4, 5, 6, 7, 8, 9, 10]"
      ]
     },
     "execution_count": 27,
     "metadata": {},
     "output_type": "execute_result"
    }
   ],
   "source": [
    "#Checking the values\n",
    "sorted(df['garage-places'].unique())"
   ]
  },
  {
   "cell_type": "code",
   "execution_count": 28,
   "id": "d48208a7",
   "metadata": {
    "hidden": true
   },
   "outputs": [
    {
     "data": {
      "text/plain": [
       "(5804, 9)"
      ]
     },
     "execution_count": 28,
     "metadata": {},
     "output_type": "execute_result"
    }
   ],
   "source": [
    "df.shape"
   ]
  },
  {
   "cell_type": "markdown",
   "id": "37a5ee4c",
   "metadata": {
    "heading_collapsed": true,
    "hidden": true
   },
   "source": [
    "### Rooms (From 5804 to 5796)"
   ]
  },
  {
   "cell_type": "code",
   "execution_count": 29,
   "id": "2648a877",
   "metadata": {
    "hidden": true
   },
   "outputs": [
    {
     "data": {
      "text/plain": [
       "3      2121\n",
       "4      1538\n",
       "2      1221\n",
       "--      484\n",
       "1       203\n",
       "5       156\n",
       "6        38\n",
       "2-3      11\n",
       "7         8\n",
       "8         7\n",
       "9         3\n",
       "3-4       2\n",
       "12        2\n",
       "13        2\n",
       "1-2       2\n",
       "18        1\n",
       "16        1\n",
       "4-5       1\n",
       "45        1\n",
       "10        1\n",
       "15        1\n",
       "Name: rooms, dtype: int64"
      ]
     },
     "execution_count": 29,
     "metadata": {},
     "output_type": "execute_result"
    }
   ],
   "source": [
    "df['rooms'].value_counts()"
   ]
  },
  {
   "cell_type": "code",
   "execution_count": 30,
   "id": "79fe262d",
   "metadata": {
    "hidden": true
   },
   "outputs": [],
   "source": [
    "#Let's do it the way we did with the Garage Places\n",
    "df['rooms'].replace('--', 0, inplace=True)\n",
    "df['rooms'].replace('1-2', 2, inplace=True)\n",
    "df['rooms'].replace('2-3', 3, inplace=True)\n",
    "df['rooms'].replace('3-4', 3, inplace=True)\n",
    "df['rooms'].replace('4-5', 4, inplace=True)"
   ]
  },
  {
   "cell_type": "code",
   "execution_count": 31,
   "id": "01e71bea",
   "metadata": {
    "hidden": true
   },
   "outputs": [],
   "source": [
    "df['rooms'] = df['rooms'].astype(int)"
   ]
  },
  {
   "cell_type": "markdown",
   "id": "ac781f36",
   "metadata": {
    "hidden": true
   },
   "source": [
    "Like the Garage Places, let's consider only houses with 10 rooms or less."
   ]
  },
  {
   "cell_type": "code",
   "execution_count": 32,
   "id": "c0372383",
   "metadata": {
    "hidden": true
   },
   "outputs": [],
   "source": [
    "df = df[df['rooms'] < 11]"
   ]
  },
  {
   "cell_type": "code",
   "execution_count": 33,
   "id": "11ec8082",
   "metadata": {
    "hidden": true
   },
   "outputs": [
    {
     "data": {
      "text/plain": [
       "[0, 1, 2, 3, 4, 5, 6, 7, 8, 9, 10]"
      ]
     },
     "execution_count": 33,
     "metadata": {},
     "output_type": "execute_result"
    }
   ],
   "source": [
    "#Checking the values\n",
    "sorted(df['rooms'].unique())"
   ]
  },
  {
   "cell_type": "code",
   "execution_count": 34,
   "id": "60766005",
   "metadata": {
    "hidden": true
   },
   "outputs": [
    {
     "data": {
      "text/plain": [
       "(5796, 9)"
      ]
     },
     "execution_count": 34,
     "metadata": {},
     "output_type": "execute_result"
    }
   ],
   "source": [
    "df.shape"
   ]
  },
  {
   "cell_type": "markdown",
   "id": "17fb1ca0",
   "metadata": {
    "heading_collapsed": true,
    "hidden": true
   },
   "source": [
    "### Square-foot / Square-meters (5796 to 5763)"
   ]
  },
  {
   "cell_type": "markdown",
   "id": "cc7d7464",
   "metadata": {
    "hidden": true
   },
   "source": [
    "First of all, the values here are in **SQUARE METERS**, not foot. Since we are brazilian and deal with **SQM**, let's just change the name of the column."
   ]
  },
  {
   "cell_type": "code",
   "execution_count": 35,
   "id": "38a09b5a",
   "metadata": {
    "hidden": true
   },
   "outputs": [
    {
     "data": {
      "text/html": [
       "<div>\n",
       "<style scoped>\n",
       "    .dataframe tbody tr th:only-of-type {\n",
       "        vertical-align: middle;\n",
       "    }\n",
       "\n",
       "    .dataframe tbody tr th {\n",
       "        vertical-align: top;\n",
       "    }\n",
       "\n",
       "    .dataframe thead th {\n",
       "        text-align: right;\n",
       "    }\n",
       "</style>\n",
       "<table border=\"1\" class=\"dataframe\">\n",
       "  <thead>\n",
       "    <tr style=\"text-align: right;\">\n",
       "      <th></th>\n",
       "      <th>address</th>\n",
       "      <th>garage-places</th>\n",
       "      <th>price</th>\n",
       "      <th>rooms</th>\n",
       "      <th>square-meters</th>\n",
       "      <th>neighborhood</th>\n",
       "      <th>city</th>\n",
       "      <th>latitude</th>\n",
       "      <th>longitude</th>\n",
       "    </tr>\n",
       "  </thead>\n",
       "  <tbody>\n",
       "    <tr>\n",
       "      <th>5976</th>\n",
       "      <td>Rua Gama Cerqueira</td>\n",
       "      <td>2</td>\n",
       "      <td>560000.0</td>\n",
       "      <td>3</td>\n",
       "      <td>92</td>\n",
       "      <td>Nova Suíssa</td>\n",
       "      <td>Belo Horizonte</td>\n",
       "      <td>-19.945428</td>\n",
       "      <td>-43.970988</td>\n",
       "    </tr>\n",
       "    <tr>\n",
       "      <th>5977</th>\n",
       "      <td>Rua Arthur Lourenço, 262</td>\n",
       "      <td>1</td>\n",
       "      <td>440000.0</td>\n",
       "      <td>3</td>\n",
       "      <td>90</td>\n",
       "      <td>Barreiro</td>\n",
       "      <td>Belo Horizonte</td>\n",
       "      <td>-19.979915</td>\n",
       "      <td>-44.026007</td>\n",
       "    </tr>\n",
       "    <tr>\n",
       "      <th>5978</th>\n",
       "      <td>Rua General Ephigênio Ruas Santos</td>\n",
       "      <td>2</td>\n",
       "      <td>500000.0</td>\n",
       "      <td>3</td>\n",
       "      <td>80</td>\n",
       "      <td>Itapoã</td>\n",
       "      <td>Belo Horizonte</td>\n",
       "      <td>-19.840904</td>\n",
       "      <td>-43.956037</td>\n",
       "    </tr>\n",
       "    <tr>\n",
       "      <th>5979</th>\n",
       "      <td>Rua General Ephigênio Ruas Santos</td>\n",
       "      <td>2</td>\n",
       "      <td>740000.0</td>\n",
       "      <td>3</td>\n",
       "      <td>80</td>\n",
       "      <td>Itapoã</td>\n",
       "      <td>Belo Horizonte</td>\n",
       "      <td>-19.840904</td>\n",
       "      <td>-43.956037</td>\n",
       "    </tr>\n",
       "    <tr>\n",
       "      <th>5980</th>\n",
       "      <td>Avenida do Contorno</td>\n",
       "      <td>3</td>\n",
       "      <td>4990000.0</td>\n",
       "      <td>0</td>\n",
       "      <td>428</td>\n",
       "      <td>Savassi</td>\n",
       "      <td>Belo Horizonte</td>\n",
       "      <td>-19.915643</td>\n",
       "      <td>-43.945380</td>\n",
       "    </tr>\n",
       "  </tbody>\n",
       "</table>\n",
       "</div>"
      ],
      "text/plain": [
       "                                 address  garage-places      price  rooms  \\\n",
       "5976                 Rua Gama Cerqueira               2   560000.0      3   \n",
       "5977           Rua Arthur Lourenço, 262               1   440000.0      3   \n",
       "5978  Rua General Ephigênio Ruas Santos               2   500000.0      3   \n",
       "5979  Rua General Ephigênio Ruas Santos               2   740000.0      3   \n",
       "5980                Avenida do Contorno               3  4990000.0      0   \n",
       "\n",
       "     square-meters neighborhood            city   latitude  longitude  \n",
       "5976            92  Nova Suíssa  Belo Horizonte -19.945428 -43.970988  \n",
       "5977            90     Barreiro  Belo Horizonte -19.979915 -44.026007  \n",
       "5978            80       Itapoã  Belo Horizonte -19.840904 -43.956037  \n",
       "5979            80       Itapoã  Belo Horizonte -19.840904 -43.956037  \n",
       "5980           428      Savassi  Belo Horizonte -19.915643 -43.945380  "
      ]
     },
     "execution_count": 35,
     "metadata": {},
     "output_type": "execute_result"
    }
   ],
   "source": [
    "df = df.rename(columns={'square-foot': 'square-meters'})\n",
    "df.tail()"
   ]
  },
  {
   "cell_type": "code",
   "execution_count": null,
   "id": "4b6c54d9",
   "metadata": {
    "hidden": true
   },
   "outputs": [],
   "source": [
    "df['square-meters'].unique()"
   ]
  },
  {
   "cell_type": "markdown",
   "id": "f3314c5f",
   "metadata": {
    "hidden": true
   },
   "source": [
    "We can see that the values are classified as **OBJECTS**, and we do have some weird values again.\n",
    "And after all the changes so far, our index is kind of messed up."
   ]
  },
  {
   "cell_type": "code",
   "execution_count": 36,
   "id": "583ed87f",
   "metadata": {
    "hidden": true
   },
   "outputs": [
    {
     "data": {
      "text/plain": [
       "(5796, 9)"
      ]
     },
     "execution_count": 36,
     "metadata": {},
     "output_type": "execute_result"
    }
   ],
   "source": [
    "#Checking the difference between the index value and the Dataset size\n",
    "df.shape"
   ]
  },
  {
   "cell_type": "markdown",
   "id": "0fd816c8",
   "metadata": {
    "hidden": true
   },
   "source": [
    "Let's reset the index, so we can use the shape value."
   ]
  },
  {
   "cell_type": "code",
   "execution_count": 37,
   "id": "116906ca",
   "metadata": {
    "hidden": true
   },
   "outputs": [],
   "source": [
    "#Dropping the old index, inplacing the change\n",
    "df.reset_index(drop=True, inplace=True)"
   ]
  },
  {
   "cell_type": "code",
   "execution_count": 38,
   "id": "2fd31f35",
   "metadata": {
    "hidden": true
   },
   "outputs": [],
   "source": [
    "indexes = [i for i in range(0, df.shape[0]) if '-' in df.iloc[i]['square-meters']]"
   ]
  },
  {
   "cell_type": "code",
   "execution_count": 39,
   "id": "66b12fa3",
   "metadata": {
    "hidden": true
   },
   "outputs": [],
   "source": [
    "df.drop(indexes, inplace=True)"
   ]
  },
  {
   "cell_type": "code",
   "execution_count": 40,
   "id": "57787cb2",
   "metadata": {
    "hidden": true
   },
   "outputs": [],
   "source": [
    "df['square-meters'] = df['square-meters'].astype(int)"
   ]
  },
  {
   "cell_type": "code",
   "execution_count": 41,
   "id": "7e49357d",
   "metadata": {
    "hidden": true
   },
   "outputs": [
    {
     "data": {
      "text/plain": [
       "(5763, 9)"
      ]
     },
     "execution_count": 41,
     "metadata": {},
     "output_type": "execute_result"
    }
   ],
   "source": [
    "df.shape"
   ]
  },
  {
   "cell_type": "markdown",
   "id": "4a2a1454",
   "metadata": {
    "heading_collapsed": true,
    "hidden": true
   },
   "source": [
    "### Price"
   ]
  },
  {
   "cell_type": "markdown",
   "id": "4536951c",
   "metadata": {
    "hidden": true
   },
   "source": [
    "The price type here is set as **float**. Let's change it to **int** to keep it simple and round."
   ]
  },
  {
   "cell_type": "code",
   "execution_count": 42,
   "id": "f8c85391",
   "metadata": {
    "hidden": true
   },
   "outputs": [
    {
     "data": {
      "text/html": [
       "<div>\n",
       "<style scoped>\n",
       "    .dataframe tbody tr th:only-of-type {\n",
       "        vertical-align: middle;\n",
       "    }\n",
       "\n",
       "    .dataframe tbody tr th {\n",
       "        vertical-align: top;\n",
       "    }\n",
       "\n",
       "    .dataframe thead th {\n",
       "        text-align: right;\n",
       "    }\n",
       "</style>\n",
       "<table border=\"1\" class=\"dataframe\">\n",
       "  <thead>\n",
       "    <tr style=\"text-align: right;\">\n",
       "      <th></th>\n",
       "      <th>address</th>\n",
       "      <th>garage-places</th>\n",
       "      <th>price</th>\n",
       "      <th>rooms</th>\n",
       "      <th>square-meters</th>\n",
       "      <th>neighborhood</th>\n",
       "      <th>city</th>\n",
       "      <th>latitude</th>\n",
       "      <th>longitude</th>\n",
       "    </tr>\n",
       "  </thead>\n",
       "  <tbody>\n",
       "    <tr>\n",
       "      <th>0</th>\n",
       "      <td>Avenida Raja Gabaglia, 1583</td>\n",
       "      <td>1</td>\n",
       "      <td>330000</td>\n",
       "      <td>1</td>\n",
       "      <td>40</td>\n",
       "      <td>Luxemburgo</td>\n",
       "      <td>Belo Horizonte</td>\n",
       "      <td>-19.936415</td>\n",
       "      <td>-43.953396</td>\n",
       "    </tr>\n",
       "    <tr>\n",
       "      <th>2</th>\n",
       "      <td>Rua dos Expedicionários, 1082</td>\n",
       "      <td>5</td>\n",
       "      <td>1190000</td>\n",
       "      <td>4</td>\n",
       "      <td>411</td>\n",
       "      <td>Santa Amélia</td>\n",
       "      <td>Belo Horizonte</td>\n",
       "      <td>-20.225241</td>\n",
       "      <td>-44.397780</td>\n",
       "    </tr>\n",
       "    <tr>\n",
       "      <th>3</th>\n",
       "      <td>Rua Marechal Hermes, 81</td>\n",
       "      <td>4</td>\n",
       "      <td>1590000</td>\n",
       "      <td>4</td>\n",
       "      <td>158</td>\n",
       "      <td>Gutierrez</td>\n",
       "      <td>Belo Horizonte</td>\n",
       "      <td>-19.937155</td>\n",
       "      <td>-43.958694</td>\n",
       "    </tr>\n",
       "    <tr>\n",
       "      <th>4</th>\n",
       "      <td>Rua Juruna, 110</td>\n",
       "      <td>6</td>\n",
       "      <td>550000</td>\n",
       "      <td>3</td>\n",
       "      <td>278</td>\n",
       "      <td>Pindorama</td>\n",
       "      <td>Belo Horizonte</td>\n",
       "      <td>-19.912982</td>\n",
       "      <td>-44.019944</td>\n",
       "    </tr>\n",
       "    <tr>\n",
       "      <th>5</th>\n",
       "      <td>Rua Maria Pereira de Araújo, 15</td>\n",
       "      <td>1</td>\n",
       "      <td>450000</td>\n",
       "      <td>3</td>\n",
       "      <td>87</td>\n",
       "      <td>Castelo</td>\n",
       "      <td>Belo Horizonte</td>\n",
       "      <td>-19.886147</td>\n",
       "      <td>-44.004236</td>\n",
       "    </tr>\n",
       "    <tr>\n",
       "      <th>...</th>\n",
       "      <td>...</td>\n",
       "      <td>...</td>\n",
       "      <td>...</td>\n",
       "      <td>...</td>\n",
       "      <td>...</td>\n",
       "      <td>...</td>\n",
       "      <td>...</td>\n",
       "      <td>...</td>\n",
       "      <td>...</td>\n",
       "    </tr>\n",
       "    <tr>\n",
       "      <th>5791</th>\n",
       "      <td>Rua Gama Cerqueira</td>\n",
       "      <td>2</td>\n",
       "      <td>560000</td>\n",
       "      <td>3</td>\n",
       "      <td>92</td>\n",
       "      <td>Nova Suíssa</td>\n",
       "      <td>Belo Horizonte</td>\n",
       "      <td>-19.945428</td>\n",
       "      <td>-43.970988</td>\n",
       "    </tr>\n",
       "    <tr>\n",
       "      <th>5792</th>\n",
       "      <td>Rua Arthur Lourenço, 262</td>\n",
       "      <td>1</td>\n",
       "      <td>440000</td>\n",
       "      <td>3</td>\n",
       "      <td>90</td>\n",
       "      <td>Barreiro</td>\n",
       "      <td>Belo Horizonte</td>\n",
       "      <td>-19.979915</td>\n",
       "      <td>-44.026007</td>\n",
       "    </tr>\n",
       "    <tr>\n",
       "      <th>5793</th>\n",
       "      <td>Rua General Ephigênio Ruas Santos</td>\n",
       "      <td>2</td>\n",
       "      <td>500000</td>\n",
       "      <td>3</td>\n",
       "      <td>80</td>\n",
       "      <td>Itapoã</td>\n",
       "      <td>Belo Horizonte</td>\n",
       "      <td>-19.840904</td>\n",
       "      <td>-43.956037</td>\n",
       "    </tr>\n",
       "    <tr>\n",
       "      <th>5794</th>\n",
       "      <td>Rua General Ephigênio Ruas Santos</td>\n",
       "      <td>2</td>\n",
       "      <td>740000</td>\n",
       "      <td>3</td>\n",
       "      <td>80</td>\n",
       "      <td>Itapoã</td>\n",
       "      <td>Belo Horizonte</td>\n",
       "      <td>-19.840904</td>\n",
       "      <td>-43.956037</td>\n",
       "    </tr>\n",
       "    <tr>\n",
       "      <th>5795</th>\n",
       "      <td>Avenida do Contorno</td>\n",
       "      <td>3</td>\n",
       "      <td>4990000</td>\n",
       "      <td>0</td>\n",
       "      <td>428</td>\n",
       "      <td>Savassi</td>\n",
       "      <td>Belo Horizonte</td>\n",
       "      <td>-19.915643</td>\n",
       "      <td>-43.945380</td>\n",
       "    </tr>\n",
       "  </tbody>\n",
       "</table>\n",
       "<p>5763 rows × 9 columns</p>\n",
       "</div>"
      ],
      "text/plain": [
       "                                 address  garage-places    price  rooms  \\\n",
       "0           Avenida Raja Gabaglia, 1583               1   330000      1   \n",
       "2         Rua dos Expedicionários, 1082               5  1190000      4   \n",
       "3               Rua Marechal Hermes, 81               4  1590000      4   \n",
       "4                       Rua Juruna, 110               6   550000      3   \n",
       "5       Rua Maria Pereira de Araújo, 15               1   450000      3   \n",
       "...                                  ...            ...      ...    ...   \n",
       "5791                 Rua Gama Cerqueira               2   560000      3   \n",
       "5792           Rua Arthur Lourenço, 262               1   440000      3   \n",
       "5793  Rua General Ephigênio Ruas Santos               2   500000      3   \n",
       "5794  Rua General Ephigênio Ruas Santos               2   740000      3   \n",
       "5795                Avenida do Contorno               3  4990000      0   \n",
       "\n",
       "      square-meters  neighborhood            city   latitude  longitude  \n",
       "0                40    Luxemburgo  Belo Horizonte -19.936415 -43.953396  \n",
       "2               411  Santa Amélia  Belo Horizonte -20.225241 -44.397780  \n",
       "3               158     Gutierrez  Belo Horizonte -19.937155 -43.958694  \n",
       "4               278     Pindorama  Belo Horizonte -19.912982 -44.019944  \n",
       "5                87       Castelo  Belo Horizonte -19.886147 -44.004236  \n",
       "...             ...           ...             ...        ...        ...  \n",
       "5791             92   Nova Suíssa  Belo Horizonte -19.945428 -43.970988  \n",
       "5792             90      Barreiro  Belo Horizonte -19.979915 -44.026007  \n",
       "5793             80        Itapoã  Belo Horizonte -19.840904 -43.956037  \n",
       "5794             80        Itapoã  Belo Horizonte -19.840904 -43.956037  \n",
       "5795            428       Savassi  Belo Horizonte -19.915643 -43.945380  \n",
       "\n",
       "[5763 rows x 9 columns]"
      ]
     },
     "execution_count": 42,
     "metadata": {},
     "output_type": "execute_result"
    }
   ],
   "source": [
    "df['price'] = df['price'].astype(int)\n",
    "df"
   ]
  },
  {
   "cell_type": "markdown",
   "id": "efdeabe0",
   "metadata": {
    "heading_collapsed": true
   },
   "source": [
    "# Final Steps and Considerations"
   ]
  },
  {
   "cell_type": "code",
   "execution_count": 43,
   "id": "a52a2697",
   "metadata": {
    "hidden": true
   },
   "outputs": [],
   "source": [
    "#As a final step, let's reset the index one last time to keep the Dataset organized\n",
    "df.reset_index(drop=True, inplace=True)"
   ]
  },
  {
   "cell_type": "code",
   "execution_count": 44,
   "id": "515b4b2a",
   "metadata": {
    "hidden": true
   },
   "outputs": [
    {
     "data": {
      "text/html": [
       "<div>\n",
       "<style scoped>\n",
       "    .dataframe tbody tr th:only-of-type {\n",
       "        vertical-align: middle;\n",
       "    }\n",
       "\n",
       "    .dataframe tbody tr th {\n",
       "        vertical-align: top;\n",
       "    }\n",
       "\n",
       "    .dataframe thead th {\n",
       "        text-align: right;\n",
       "    }\n",
       "</style>\n",
       "<table border=\"1\" class=\"dataframe\">\n",
       "  <thead>\n",
       "    <tr style=\"text-align: right;\">\n",
       "      <th></th>\n",
       "      <th>address</th>\n",
       "      <th>garage-places</th>\n",
       "      <th>price</th>\n",
       "      <th>rooms</th>\n",
       "      <th>square-meters</th>\n",
       "      <th>neighborhood</th>\n",
       "      <th>city</th>\n",
       "      <th>latitude</th>\n",
       "      <th>longitude</th>\n",
       "    </tr>\n",
       "  </thead>\n",
       "  <tbody>\n",
       "    <tr>\n",
       "      <th>0</th>\n",
       "      <td>Avenida Raja Gabaglia, 1583</td>\n",
       "      <td>1</td>\n",
       "      <td>330000</td>\n",
       "      <td>1</td>\n",
       "      <td>40</td>\n",
       "      <td>Luxemburgo</td>\n",
       "      <td>Belo Horizonte</td>\n",
       "      <td>-19.936415</td>\n",
       "      <td>-43.953396</td>\n",
       "    </tr>\n",
       "    <tr>\n",
       "      <th>1</th>\n",
       "      <td>Rua dos Expedicionários, 1082</td>\n",
       "      <td>5</td>\n",
       "      <td>1190000</td>\n",
       "      <td>4</td>\n",
       "      <td>411</td>\n",
       "      <td>Santa Amélia</td>\n",
       "      <td>Belo Horizonte</td>\n",
       "      <td>-20.225241</td>\n",
       "      <td>-44.397780</td>\n",
       "    </tr>\n",
       "    <tr>\n",
       "      <th>2</th>\n",
       "      <td>Rua Marechal Hermes, 81</td>\n",
       "      <td>4</td>\n",
       "      <td>1590000</td>\n",
       "      <td>4</td>\n",
       "      <td>158</td>\n",
       "      <td>Gutierrez</td>\n",
       "      <td>Belo Horizonte</td>\n",
       "      <td>-19.937155</td>\n",
       "      <td>-43.958694</td>\n",
       "    </tr>\n",
       "    <tr>\n",
       "      <th>3</th>\n",
       "      <td>Rua Juruna, 110</td>\n",
       "      <td>6</td>\n",
       "      <td>550000</td>\n",
       "      <td>3</td>\n",
       "      <td>278</td>\n",
       "      <td>Pindorama</td>\n",
       "      <td>Belo Horizonte</td>\n",
       "      <td>-19.912982</td>\n",
       "      <td>-44.019944</td>\n",
       "    </tr>\n",
       "    <tr>\n",
       "      <th>4</th>\n",
       "      <td>Rua Maria Pereira de Araújo, 15</td>\n",
       "      <td>1</td>\n",
       "      <td>450000</td>\n",
       "      <td>3</td>\n",
       "      <td>87</td>\n",
       "      <td>Castelo</td>\n",
       "      <td>Belo Horizonte</td>\n",
       "      <td>-19.886147</td>\n",
       "      <td>-44.004236</td>\n",
       "    </tr>\n",
       "    <tr>\n",
       "      <th>...</th>\n",
       "      <td>...</td>\n",
       "      <td>...</td>\n",
       "      <td>...</td>\n",
       "      <td>...</td>\n",
       "      <td>...</td>\n",
       "      <td>...</td>\n",
       "      <td>...</td>\n",
       "      <td>...</td>\n",
       "      <td>...</td>\n",
       "    </tr>\n",
       "    <tr>\n",
       "      <th>5758</th>\n",
       "      <td>Rua Gama Cerqueira</td>\n",
       "      <td>2</td>\n",
       "      <td>560000</td>\n",
       "      <td>3</td>\n",
       "      <td>92</td>\n",
       "      <td>Nova Suíssa</td>\n",
       "      <td>Belo Horizonte</td>\n",
       "      <td>-19.945428</td>\n",
       "      <td>-43.970988</td>\n",
       "    </tr>\n",
       "    <tr>\n",
       "      <th>5759</th>\n",
       "      <td>Rua Arthur Lourenço, 262</td>\n",
       "      <td>1</td>\n",
       "      <td>440000</td>\n",
       "      <td>3</td>\n",
       "      <td>90</td>\n",
       "      <td>Barreiro</td>\n",
       "      <td>Belo Horizonte</td>\n",
       "      <td>-19.979915</td>\n",
       "      <td>-44.026007</td>\n",
       "    </tr>\n",
       "    <tr>\n",
       "      <th>5760</th>\n",
       "      <td>Rua General Ephigênio Ruas Santos</td>\n",
       "      <td>2</td>\n",
       "      <td>500000</td>\n",
       "      <td>3</td>\n",
       "      <td>80</td>\n",
       "      <td>Itapoã</td>\n",
       "      <td>Belo Horizonte</td>\n",
       "      <td>-19.840904</td>\n",
       "      <td>-43.956037</td>\n",
       "    </tr>\n",
       "    <tr>\n",
       "      <th>5761</th>\n",
       "      <td>Rua General Ephigênio Ruas Santos</td>\n",
       "      <td>2</td>\n",
       "      <td>740000</td>\n",
       "      <td>3</td>\n",
       "      <td>80</td>\n",
       "      <td>Itapoã</td>\n",
       "      <td>Belo Horizonte</td>\n",
       "      <td>-19.840904</td>\n",
       "      <td>-43.956037</td>\n",
       "    </tr>\n",
       "    <tr>\n",
       "      <th>5762</th>\n",
       "      <td>Avenida do Contorno</td>\n",
       "      <td>3</td>\n",
       "      <td>4990000</td>\n",
       "      <td>0</td>\n",
       "      <td>428</td>\n",
       "      <td>Savassi</td>\n",
       "      <td>Belo Horizonte</td>\n",
       "      <td>-19.915643</td>\n",
       "      <td>-43.945380</td>\n",
       "    </tr>\n",
       "  </tbody>\n",
       "</table>\n",
       "<p>5763 rows × 9 columns</p>\n",
       "</div>"
      ],
      "text/plain": [
       "                                 address  garage-places    price  rooms  \\\n",
       "0           Avenida Raja Gabaglia, 1583               1   330000      1   \n",
       "1         Rua dos Expedicionários, 1082               5  1190000      4   \n",
       "2               Rua Marechal Hermes, 81               4  1590000      4   \n",
       "3                       Rua Juruna, 110               6   550000      3   \n",
       "4       Rua Maria Pereira de Araújo, 15               1   450000      3   \n",
       "...                                  ...            ...      ...    ...   \n",
       "5758                 Rua Gama Cerqueira               2   560000      3   \n",
       "5759           Rua Arthur Lourenço, 262               1   440000      3   \n",
       "5760  Rua General Ephigênio Ruas Santos               2   500000      3   \n",
       "5761  Rua General Ephigênio Ruas Santos               2   740000      3   \n",
       "5762                Avenida do Contorno               3  4990000      0   \n",
       "\n",
       "      square-meters  neighborhood            city   latitude  longitude  \n",
       "0                40    Luxemburgo  Belo Horizonte -19.936415 -43.953396  \n",
       "1               411  Santa Amélia  Belo Horizonte -20.225241 -44.397780  \n",
       "2               158     Gutierrez  Belo Horizonte -19.937155 -43.958694  \n",
       "3               278     Pindorama  Belo Horizonte -19.912982 -44.019944  \n",
       "4                87       Castelo  Belo Horizonte -19.886147 -44.004236  \n",
       "...             ...           ...             ...        ...        ...  \n",
       "5758             92   Nova Suíssa  Belo Horizonte -19.945428 -43.970988  \n",
       "5759             90      Barreiro  Belo Horizonte -19.979915 -44.026007  \n",
       "5760             80        Itapoã  Belo Horizonte -19.840904 -43.956037  \n",
       "5761             80        Itapoã  Belo Horizonte -19.840904 -43.956037  \n",
       "5762            428       Savassi  Belo Horizonte -19.915643 -43.945380  \n",
       "\n",
       "[5763 rows x 9 columns]"
      ]
     },
     "execution_count": 44,
     "metadata": {},
     "output_type": "execute_result"
    }
   ],
   "source": [
    "df"
   ]
  },
  {
   "cell_type": "markdown",
   "id": "f070dfdb",
   "metadata": {
    "hidden": true
   },
   "source": [
    "After all the steps done so far, we can now begin to explore the possible correlation between the **features** and our **target** (the price).\n",
    "\n",
    "Is this the final version? **Of course NOT!** This is the first attempt of understand the data. We might face some results on the steps to come that will bring us back here to re-evaluate our strategy."
   ]
  }
 ],
 "metadata": {
  "kernelspec": {
   "display_name": "Python 3 (ipykernel)",
   "language": "python",
   "name": "python3"
  },
  "language_info": {
   "codemirror_mode": {
    "name": "ipython",
    "version": 3
   },
   "file_extension": ".py",
   "mimetype": "text/x-python",
   "name": "python",
   "nbconvert_exporter": "python",
   "pygments_lexer": "ipython3",
   "version": "3.8.12"
  },
  "toc": {
   "base_numbering": 1,
   "nav_menu": {},
   "number_sections": true,
   "sideBar": true,
   "skip_h1_title": false,
   "title_cell": "Table of Contents",
   "title_sidebar": "Contents",
   "toc_cell": false,
   "toc_position": {},
   "toc_section_display": true,
   "toc_window_display": false
  }
 },
 "nbformat": 4,
 "nbformat_minor": 5
}
