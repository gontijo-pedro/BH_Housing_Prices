{
 "cells": [
  {
   "cell_type": "markdown",
   "id": "6464281f",
   "metadata": {
    "heading_collapsed": true
   },
   "source": [
    "# Imports"
   ]
  },
  {
   "cell_type": "code",
   "execution_count": 1,
   "id": "74ce1a90",
   "metadata": {
    "hidden": true
   },
   "outputs": [],
   "source": [
    "import matplotlib.pyplot as plt\n",
    "import numpy as np\n",
    "import pandas as pd\n",
    "import seaborn as sns\n",
    "from sklearn.dummy import DummyRegressor\n",
    "from sklearn.linear_model import LinearRegression\n",
    "from sklearn.model_selection import cross_validate\n",
    "from sklearn.model_selection import learning_curve\n",
    "from sklearn.model_selection import train_test_split\n",
    "from sklearn.preprocessing import MinMaxScaler"
   ]
  },
  {
   "cell_type": "markdown",
   "id": "071e14e8",
   "metadata": {
    "heading_collapsed": true
   },
   "source": [
    "# Importing the Dataset"
   ]
  },
  {
   "cell_type": "code",
   "execution_count": 2,
   "id": "577681a1",
   "metadata": {
    "hidden": true
   },
   "outputs": [
    {
     "data": {
      "text/html": [
       "<div>\n",
       "<style scoped>\n",
       "    .dataframe tbody tr th:only-of-type {\n",
       "        vertical-align: middle;\n",
       "    }\n",
       "\n",
       "    .dataframe tbody tr th {\n",
       "        vertical-align: top;\n",
       "    }\n",
       "\n",
       "    .dataframe thead th {\n",
       "        text-align: right;\n",
       "    }\n",
       "</style>\n",
       "<table border=\"1\" class=\"dataframe\">\n",
       "  <thead>\n",
       "    <tr style=\"text-align: right;\">\n",
       "      <th></th>\n",
       "      <th>garage</th>\n",
       "      <th>price</th>\n",
       "      <th>rooms</th>\n",
       "      <th>sqm</th>\n",
       "    </tr>\n",
       "  </thead>\n",
       "  <tbody>\n",
       "    <tr>\n",
       "      <th>0</th>\n",
       "      <td>1</td>\n",
       "      <td>330000</td>\n",
       "      <td>1</td>\n",
       "      <td>40</td>\n",
       "    </tr>\n",
       "    <tr>\n",
       "      <th>1</th>\n",
       "      <td>5</td>\n",
       "      <td>1190000</td>\n",
       "      <td>4</td>\n",
       "      <td>411</td>\n",
       "    </tr>\n",
       "    <tr>\n",
       "      <th>2</th>\n",
       "      <td>4</td>\n",
       "      <td>1590000</td>\n",
       "      <td>4</td>\n",
       "      <td>158</td>\n",
       "    </tr>\n",
       "    <tr>\n",
       "      <th>3</th>\n",
       "      <td>6</td>\n",
       "      <td>550000</td>\n",
       "      <td>3</td>\n",
       "      <td>278</td>\n",
       "    </tr>\n",
       "    <tr>\n",
       "      <th>4</th>\n",
       "      <td>1</td>\n",
       "      <td>450000</td>\n",
       "      <td>3</td>\n",
       "      <td>87</td>\n",
       "    </tr>\n",
       "    <tr>\n",
       "      <th>...</th>\n",
       "      <td>...</td>\n",
       "      <td>...</td>\n",
       "      <td>...</td>\n",
       "      <td>...</td>\n",
       "    </tr>\n",
       "    <tr>\n",
       "      <th>5729</th>\n",
       "      <td>2</td>\n",
       "      <td>560000</td>\n",
       "      <td>3</td>\n",
       "      <td>92</td>\n",
       "    </tr>\n",
       "    <tr>\n",
       "      <th>5730</th>\n",
       "      <td>1</td>\n",
       "      <td>440000</td>\n",
       "      <td>3</td>\n",
       "      <td>90</td>\n",
       "    </tr>\n",
       "    <tr>\n",
       "      <th>5731</th>\n",
       "      <td>2</td>\n",
       "      <td>500000</td>\n",
       "      <td>3</td>\n",
       "      <td>80</td>\n",
       "    </tr>\n",
       "    <tr>\n",
       "      <th>5732</th>\n",
       "      <td>2</td>\n",
       "      <td>740000</td>\n",
       "      <td>3</td>\n",
       "      <td>80</td>\n",
       "    </tr>\n",
       "    <tr>\n",
       "      <th>5733</th>\n",
       "      <td>3</td>\n",
       "      <td>4990000</td>\n",
       "      <td>0</td>\n",
       "      <td>428</td>\n",
       "    </tr>\n",
       "  </tbody>\n",
       "</table>\n",
       "<p>5734 rows × 4 columns</p>\n",
       "</div>"
      ],
      "text/plain": [
       "      garage    price  rooms  sqm\n",
       "0          1   330000      1   40\n",
       "1          5  1190000      4  411\n",
       "2          4  1590000      4  158\n",
       "3          6   550000      3  278\n",
       "4          1   450000      3   87\n",
       "...      ...      ...    ...  ...\n",
       "5729       2   560000      3   92\n",
       "5730       1   440000      3   90\n",
       "5731       2   500000      3   80\n",
       "5732       2   740000      3   80\n",
       "5733       3  4990000      0  428\n",
       "\n",
       "[5734 rows x 4 columns]"
      ]
     },
     "execution_count": 2,
     "metadata": {},
     "output_type": "execute_result"
    }
   ],
   "source": [
    "raw_df = pd.read_csv('../raw_data/data_for_first_model.csv')\n",
    "df = raw_df.copy()\n",
    "df"
   ]
  },
  {
   "cell_type": "markdown",
   "id": "6b44e5d1",
   "metadata": {},
   "source": [
    "# Scaling the Data"
   ]
  },
  {
   "cell_type": "markdown",
   "id": "86aa7188",
   "metadata": {
    "heading_collapsed": true
   },
   "source": [
    "## Checking the Data's Distribution"
   ]
  },
  {
   "cell_type": "code",
   "execution_count": 3,
   "id": "70288c64",
   "metadata": {
    "hidden": true
   },
   "outputs": [
    {
     "data": {
      "image/png": "[encoded data removed]",
      "text/plain": [
       "<Figure size 1440x360 with 3 Axes>"
      ]
     },
     "metadata": {
      "needs_background": "light"
     },
     "output_type": "display_data"
    }
   ],
   "source": [
    "plt.figure(figsize=(20,5))\n",
    "plt.subplot(1,3,1)\n",
    "plt.hist(df['garage'], bins = 20);\n",
    "plt.subplot(1,3,2)\n",
    "plt.hist(df['rooms'], bins = 20);\n",
    "plt.subplot(1,3,3)\n",
    "plt.hist(df['sqm'], bins = 100);"
   ]
  },
  {
   "cell_type": "markdown",
   "id": "a78c59d3",
   "metadata": {
    "hidden": true
   },
   "source": [
    "Non-Gaussian and without outliers: the best scaler in this scenario is the **MIN MAX SCALER**."
   ]
  },
  {
   "cell_type": "markdown",
   "id": "ca098ab0",
   "metadata": {
    "heading_collapsed": true
   },
   "source": [
    "## Applying the MinMax Scaler"
   ]
  },
  {
   "cell_type": "code",
   "execution_count": 4,
   "id": "f294611c",
   "metadata": {
    "hidden": true
   },
   "outputs": [
    {
     "data": {
      "text/html": [
       "<div>\n",
       "<style scoped>\n",
       "    .dataframe tbody tr th:only-of-type {\n",
       "        vertical-align: middle;\n",
       "    }\n",
       "\n",
       "    .dataframe tbody tr th {\n",
       "        vertical-align: top;\n",
       "    }\n",
       "\n",
       "    .dataframe thead th {\n",
       "        text-align: right;\n",
       "    }\n",
       "</style>\n",
       "<table border=\"1\" class=\"dataframe\">\n",
       "  <thead>\n",
       "    <tr style=\"text-align: right;\">\n",
       "      <th></th>\n",
       "      <th>garage</th>\n",
       "      <th>price</th>\n",
       "      <th>rooms</th>\n",
       "      <th>sqm</th>\n",
       "    </tr>\n",
       "  </thead>\n",
       "  <tbody>\n",
       "    <tr>\n",
       "      <th>0</th>\n",
       "      <td>0.1</td>\n",
       "      <td>330000</td>\n",
       "      <td>0.1</td>\n",
       "      <td>0.017981</td>\n",
       "    </tr>\n",
       "    <tr>\n",
       "      <th>1</th>\n",
       "      <td>0.5</td>\n",
       "      <td>1190000</td>\n",
       "      <td>0.4</td>\n",
       "      <td>0.274550</td>\n",
       "    </tr>\n",
       "    <tr>\n",
       "      <th>2</th>\n",
       "      <td>0.4</td>\n",
       "      <td>1590000</td>\n",
       "      <td>0.4</td>\n",
       "      <td>0.099585</td>\n",
       "    </tr>\n",
       "    <tr>\n",
       "      <th>3</th>\n",
       "      <td>0.6</td>\n",
       "      <td>550000</td>\n",
       "      <td>0.3</td>\n",
       "      <td>0.182573</td>\n",
       "    </tr>\n",
       "    <tr>\n",
       "      <th>4</th>\n",
       "      <td>0.1</td>\n",
       "      <td>450000</td>\n",
       "      <td>0.3</td>\n",
       "      <td>0.050484</td>\n",
       "    </tr>\n",
       "    <tr>\n",
       "      <th>...</th>\n",
       "      <td>...</td>\n",
       "      <td>...</td>\n",
       "      <td>...</td>\n",
       "      <td>...</td>\n",
       "    </tr>\n",
       "    <tr>\n",
       "      <th>5729</th>\n",
       "      <td>0.2</td>\n",
       "      <td>560000</td>\n",
       "      <td>0.3</td>\n",
       "      <td>0.053942</td>\n",
       "    </tr>\n",
       "    <tr>\n",
       "      <th>5730</th>\n",
       "      <td>0.1</td>\n",
       "      <td>440000</td>\n",
       "      <td>0.3</td>\n",
       "      <td>0.052559</td>\n",
       "    </tr>\n",
       "    <tr>\n",
       "      <th>5731</th>\n",
       "      <td>0.2</td>\n",
       "      <td>500000</td>\n",
       "      <td>0.3</td>\n",
       "      <td>0.045643</td>\n",
       "    </tr>\n",
       "    <tr>\n",
       "      <th>5732</th>\n",
       "      <td>0.2</td>\n",
       "      <td>740000</td>\n",
       "      <td>0.3</td>\n",
       "      <td>0.045643</td>\n",
       "    </tr>\n",
       "    <tr>\n",
       "      <th>5733</th>\n",
       "      <td>0.3</td>\n",
       "      <td>4990000</td>\n",
       "      <td>0.0</td>\n",
       "      <td>0.286307</td>\n",
       "    </tr>\n",
       "  </tbody>\n",
       "</table>\n",
       "<p>5734 rows × 4 columns</p>\n",
       "</div>"
      ],
      "text/plain": [
       "      garage    price  rooms       sqm\n",
       "0        0.1   330000    0.1  0.017981\n",
       "1        0.5  1190000    0.4  0.274550\n",
       "2        0.4  1590000    0.4  0.099585\n",
       "3        0.6   550000    0.3  0.182573\n",
       "4        0.1   450000    0.3  0.050484\n",
       "...      ...      ...    ...       ...\n",
       "5729     0.2   560000    0.3  0.053942\n",
       "5730     0.1   440000    0.3  0.052559\n",
       "5731     0.2   500000    0.3  0.045643\n",
       "5732     0.2   740000    0.3  0.045643\n",
       "5733     0.3  4990000    0.0  0.286307\n",
       "\n",
       "[5734 rows x 4 columns]"
      ]
     },
     "execution_count": 4,
     "metadata": {},
     "output_type": "execute_result"
    }
   ],
   "source": [
    "scaler = MinMaxScaler().fit(df[['sqm', 'garage', 'rooms']])\n",
    "df[['sqm', 'garage', 'rooms']] = scaler.transform(df[['sqm', 'garage', 'rooms']])\n",
    "df"
   ]
  },
  {
   "cell_type": "markdown",
   "id": "e198e9e7",
   "metadata": {},
   "source": [
    "# Defining the Train and Test set"
   ]
  },
  {
   "cell_type": "markdown",
   "id": "1a3d5e60",
   "metadata": {
    "heading_collapsed": true
   },
   "source": [
    "## Defining X and Y"
   ]
  },
  {
   "cell_type": "code",
   "execution_count": 5,
   "id": "32378d4b",
   "metadata": {
    "hidden": true
   },
   "outputs": [],
   "source": [
    "y = df['price']\n",
    "X = df[['garage', 'sqm']]"
   ]
  },
  {
   "cell_type": "markdown",
   "id": "2bab6a04",
   "metadata": {
    "heading_collapsed": true
   },
   "source": [
    "## Splitting the Sets"
   ]
  },
  {
   "cell_type": "code",
   "execution_count": 6,
   "id": "9a03102d",
   "metadata": {
    "hidden": true
   },
   "outputs": [],
   "source": [
    "X_train, X_test, y_train, y_test = train_test_split(X, y, test_size=0.3)"
   ]
  },
  {
   "cell_type": "markdown",
   "id": "53d80211",
   "metadata": {},
   "source": [
    "# Structuring the Model"
   ]
  },
  {
   "cell_type": "markdown",
   "id": "8149f962",
   "metadata": {
    "heading_collapsed": true
   },
   "source": [
    "## Baseline Model/Dummy Model"
   ]
  },
  {
   "cell_type": "code",
   "execution_count": 7,
   "id": "b351eece",
   "metadata": {
    "hidden": true
   },
   "outputs": [
    {
     "data": {
      "text/plain": [
       "-0.00016525813294365754"
      ]
     },
     "execution_count": 7,
     "metadata": {},
     "output_type": "execute_result"
    }
   ],
   "source": [
    "baseline_model = DummyRegressor()\n",
    "baseline_model.fit(X_train, y_train)\n",
    "score = baseline_model.score(X_test, y_test)\n",
    "score"
   ]
  },
  {
   "cell_type": "markdown",
   "id": "3e5059b0",
   "metadata": {
    "hidden": true
   },
   "source": [
    "That's a **terrible** (but expected) result."
   ]
  },
  {
   "cell_type": "markdown",
   "id": "8fd54759",
   "metadata": {
    "heading_collapsed": true
   },
   "source": [
    "## Linear Regression"
   ]
  },
  {
   "cell_type": "code",
   "execution_count": 8,
   "id": "75cb52de",
   "metadata": {
    "hidden": true
   },
   "outputs": [
    {
     "data": {
      "text/plain": [
       "0.5008274311093628"
      ]
     },
     "execution_count": 8,
     "metadata": {},
     "output_type": "execute_result"
    }
   ],
   "source": [
    "model = LinearRegression()\n",
    "cv_results = cross_validate(model, X_train, y_train, cv=5, scoring='r2')\n",
    "cv_results['test_score'].mean()"
   ]
  },
  {
   "cell_type": "markdown",
   "id": "bde6f16d",
   "metadata": {
    "hidden": true
   },
   "source": [
    "**0.50**? Better than the Baseline Model, but it's just like throwing a coin!"
   ]
  },
  {
   "cell_type": "markdown",
   "id": "423a070c",
   "metadata": {
    "hidden": true
   },
   "source": [
    "**IMPORTANT**: I tried the model using the **rooms** feature, and the score was 0.48, which proves the statistical approach of the last notebook."
   ]
  },
  {
   "cell_type": "markdown",
   "id": "7c426c2a",
   "metadata": {
    "heading_collapsed": true
   },
   "source": [
    "## Checking the Learning Curves"
   ]
  },
  {
   "cell_type": "code",
   "execution_count": 9,
   "id": "a48dae94",
   "metadata": {
    "hidden": true
   },
   "outputs": [
    {
     "data": {
      "text/plain": [
       "<matplotlib.legend.Legend at 0x7f47606b88e0>"
      ]
     },
     "execution_count": 9,
     "metadata": {},
     "output_type": "execute_result"
    },
    {
     "data": {
      "image/png": "[encoded data removed]",
      "text/plain": [
       "<Figure size 432x288 with 1 Axes>"
      ]
     },
     "metadata": {
      "needs_background": "light"
     },
     "output_type": "display_data"
    }
   ],
   "source": [
    "#Define our Train Sizes inside the function, or store it outside in a variable just like you did here;\n",
    "train_sizes = [25,50,75,100,250,500,750,1000,1500,2000,2500,3000,3500,4000]\n",
    "\n",
    "        #The function output consists in 5 arrays: train_sizes_abs, train_scores, test_scores, fit_times and score_times;\n",
    "        #The function performs an Automatic Cross Validation (again, the 'cv' is the number of folds);\n",
    "        #The 'estimator' must be an object that can perform both 'fit' and 'test' methods;\n",
    "train_sizes, train_scores, test_scores = learning_curve(estimator=LinearRegression(), X=X, y=y, train_sizes=train_sizes, cv=5, scoring='r2')\n",
    "\n",
    "        #Compute the mean of the Cross-Validated Train Scores and Test Scores;\n",
    "train_scores_mean = np.mean(train_scores, axis=1)\n",
    "test_scores_mean = np.mean(test_scores, axis=1)\n",
    "\n",
    "        #And now plot the whole thing;\n",
    "plt.plot(train_sizes, train_scores_mean, label = 'Training score')\n",
    "plt.plot(train_sizes, test_scores_mean, label = 'Test score')\n",
    "plt.ylabel('r2 score', fontsize = 14)\n",
    "plt.xlabel('Training set size', fontsize = 14)\n",
    "plt.title('Learning curves', fontsize = 18, y = 1.03)\n",
    "plt.legend()"
   ]
  },
  {
   "cell_type": "markdown",
   "id": "bbc25c86",
   "metadata": {
    "hidden": true
   },
   "source": [
    "At least the model doesn't seem to be under/over-fitting."
   ]
  },
  {
   "cell_type": "markdown",
   "id": "84f0845e",
   "metadata": {
    "heading_collapsed": true
   },
   "source": [
    "## Checking the Residuals"
   ]
  },
  {
   "cell_type": "code",
   "execution_count": 11,
   "id": "2ca2be39",
   "metadata": {
    "hidden": true
   },
   "outputs": [
    {
     "data": {
      "text/plain": [
       "array([2278799.23831296,  996908.77136648,  996908.77136648, ...,\n",
       "        606731.70635258,  702435.51475222,  614093.53776794])"
      ]
     },
     "execution_count": 11,
     "metadata": {},
     "output_type": "execute_result"
    }
   ],
   "source": [
    "#Instantiating and trainning a model;\n",
    "model = LinearRegression().fit(X_train, y_train)\n",
    "#Predicting house prices with the model;\n",
    "predictions = model.predict(X_test)\n",
    "#Checking the difference between the predictions and the real prices\n",
    "residuals = y_test - predictions"
   ]
  },
  {
   "cell_type": "code",
   "execution_count": 19,
   "id": "b974b338",
   "metadata": {
    "hidden": true
   },
   "outputs": [
    {
     "data": {
      "image/png": "[encoded data removed]",
      "text/plain": [
       "<Figure size 432x288 with 1 Axes>"
      ]
     },
     "metadata": {
      "needs_background": "light"
     },
     "output_type": "display_data"
    }
   ],
   "source": [
    "sns.histplot(residuals, bins=100, kde=True);"
   ]
  },
  {
   "cell_type": "markdown",
   "id": "a9c4ffb8",
   "metadata": {
    "hidden": true
   },
   "source": [
    "We can clearly see a Gaussian distribution centered (apparently) on zero. That's a good start, however, we do have some considerable residual episodes from a model with a R² Score of 0.5. That's not the best result ever. Maybe, considering location as a feature might help us improve the model's score/predictions."
   ]
  }
 ],
 "metadata": {
  "kernelspec": {
   "display_name": "Python 3 (ipykernel)",
   "language": "python",
   "name": "python3"
  },
  "language_info": {
   "codemirror_mode": {
    "name": "ipython",
    "version": 3
   },
   "file_extension": ".py",
   "mimetype": "text/x-python",
   "name": "python",
   "nbconvert_exporter": "python",
   "pygments_lexer": "ipython3",
   "version": "3.8.12"
  },
  "toc": {
   "base_numbering": 1,
   "nav_menu": {},
   "number_sections": true,
   "sideBar": true,
   "skip_h1_title": false,
   "title_cell": "Table of Contents",
   "title_sidebar": "Contents",
   "toc_cell": false,
   "toc_position": {},
   "toc_section_display": true,
   "toc_window_display": false
  }
 },
 "nbformat": 4,
 "nbformat_minor": 5
}
